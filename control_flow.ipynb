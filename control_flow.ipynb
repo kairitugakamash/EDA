{
 "cells": [
  {
   "cell_type": "markdown",
   "id": "2ec4af63-7f5f-4932-bfca-1979ee385078",
   "metadata": {},
   "source": [
    "# Using the operator Module\n",
    "The operator module in Python provides function equivalents for standard arithmetic operators. By mapping these functions to their respective symbols, you can create a dictionary to perform operations dynamically."
   ]
  },
  {
   "cell_type": "code",
   "execution_count": 1,
   "id": "427cd07b-585b-43d5-a9d8-cb5e512110c1",
   "metadata": {},
   "outputs": [
    {
     "name": "stdin",
     "output_type": "stream",
     "text": [
      "Enter operation (+, -, *, /):  **\n",
      "Enter first number:  19\n",
      "Enter second number:  2\n"
     ]
    },
    {
     "name": "stdout",
     "output_type": "stream",
     "text": [
      "361.0\n"
     ]
    }
   ],
   "source": [
    "import operator\n",
    "\n",
    "action = {\n",
    "    \"+\" : operator.add,\n",
    "    \"-\" : operator.sub,\n",
    "    \"/\" : operator.truediv,\n",
    "    \"*\" : operator.mul,\n",
    "    \"**\" : pow  # Power operator\n",
    "}\n",
    "\n",
    "operation = input(\"Enter operation (+, -, *, /): \")        \n",
    "a = float(input(\"Enter first number: \"))\n",
    "b = float(input(\"Enter second number: \"))\n",
    "\n",
    "print(action[operation](a, b)) "
   ]
  },
  {
   "cell_type": "markdown",
   "id": "a9d6350a-a9a9-4610-b907-f282ee3c476b",
   "metadata": {},
   "source": [
    "# Using eval() for Dynamic Evaluation\n",
    "The eval() function evaluates a string expression in Python, allowing arithmetic operations to be performed dynamically based on user input or parameters."
   ]
  },
  {
   "cell_type": "code",
   "execution_count": 2,
   "id": "e66d53ed-8ff7-47e8-aa7d-11f4dbdcf9ae",
   "metadata": {},
   "outputs": [
    {
     "name": "stdin",
     "output_type": "stream",
     "text": [
      "Enter operation (+, -, *, /):  /\n",
      "Enter first number:  19\n",
      "Enter second number:  2\n"
     ]
    },
    {
     "name": "stdout",
     "output_type": "stream",
     "text": [
      "9.5\n"
     ]
    }
   ],
   "source": [
    "def calculator(a, b, operation):\n",
    "    return eval(f\"{a} {operation} {b}\")\n",
    "\n",
    "operation = input(\"Enter operation (+, -, *, /): \")        \n",
    "a = float(input(\"Enter first number: \"))\n",
    "b = float(input(\"Enter second number: \"))\n",
    "\n",
    "print(calculator(a, b, operation)) "
   ]
  },
  {
   "cell_type": "markdown",
   "id": "cf1c988f-752c-4f68-8027-e9a8feca9220",
   "metadata": {},
   "source": [
    "# Using match and case\n",
    "It offers a structured way to replace conditional logic like if/else for certain scenarios."
   ]
  },
  {
   "cell_type": "code",
   "execution_count": null,
   "id": "cfecaa2c-19af-4b76-865c-06273cfb5c8f",
   "metadata": {},
   "outputs": [],
   "source": [
    "def get_day_type(day):\n",
    "    match day:\n",
    "        case \"Monday\" | \"Tuesday\" | \"Wednesday\" | \"Thursday\" | \"Friday\":\n",
    "            return \"Weekday\"\n",
    "        case \"Saturday\" | \"Sunday\":\n",
    "            return \"Weekend\"\n",
    "        case _:\n",
    "            return \"Invalid day\""
   ]
  },
  {
   "cell_type": "code",
   "execution_count": null,
   "id": "7478246a-f271-433b-a8e8-789b74f62335",
   "metadata": {},
   "outputs": [],
   "source": [
    "def calculator(a, b, operation):\n",
    "    match operation:\n",
    "        case '+':\n",
    "            return a + b\n",
    "        case '-':\n",
    "            return a - b\n",
    "        case '*':\n",
    "            return a * b\n",
    "        case '/':\n",
    "            return a / b\n",
    "        case _:\n",
    "            return \"Invalid operation\"\n",
    "        \n",
    "operation = input(\"Enter operation (+, -, *, /): \")        \n",
    "a = float(input(\"Enter first number: \"))\n",
    "b = float(input(\"Enter second number: \"))\n",
    "\n",
    "print(calculator(a, b, operation)) "
   ]
  },
  {
   "cell_type": "markdown",
   "id": "48516464-24ee-45e1-99d4-4426010948ad",
   "metadata": {},
   "source": [
    "# Dictionary Dispatch:\n",
    "Use a dictionary to map operations to corresponding functions."
   ]
  },
  {
   "cell_type": "code",
   "execution_count": 3,
   "id": "a5ad920e-6719-49bc-baaa-8ade9027f2d8",
   "metadata": {},
   "outputs": [
    {
     "name": "stdin",
     "output_type": "stream",
     "text": [
      "Enter operation (+, -, *, /):  -\n",
      "Enter first number:  19\n",
      "Enter second number:  2\n"
     ]
    },
    {
     "name": "stdout",
     "output_type": "stream",
     "text": [
      "17.0\n"
     ]
    }
   ],
   "source": [
    "def add(x, y): return x + y\n",
    "def subtract(x, y): return x - y\n",
    "def multiply(x, y): return x * y\n",
    "def divide(x, y): return x / y\n",
    "\n",
    "operations = {\n",
    "    '+': add,\n",
    "    '-': subtract,\n",
    "    '*': multiply,\n",
    "    '/': divide\n",
    "}\n",
    "\n",
    "operation = input(\"Enter operation (+, -, *, /): \")\n",
    "x = float(input(\"Enter first number: \"))\n",
    "y = float(input(\"Enter second number: \"))\n",
    "\n",
    "result = operations[operation](x, y)\n",
    "print(result)"
   ]
  },
  {
   "cell_type": "markdown",
   "id": "691525ae-3e84-416c-8882-2b13fb687f94",
   "metadata": {},
   "source": [
    "# Lambda Functions:\n",
    "Use lambda functions within a dictionary to handle operations."
   ]
  },
  {
   "cell_type": "code",
   "execution_count": 4,
   "id": "bea56112-4d67-4074-9a82-b9af5c6debef",
   "metadata": {},
   "outputs": [
    {
     "name": "stdin",
     "output_type": "stream",
     "text": [
      "Enter operation (+, -, *, /):  +\n",
      "Enter first number:  19\n",
      "Enter second number:  2\n"
     ]
    },
    {
     "name": "stdout",
     "output_type": "stream",
     "text": [
      "21.0\n"
     ]
    }
   ],
   "source": [
    "operations = {\n",
    "    '+': lambda x, y: x + y,\n",
    "    '-': lambda x, y: x - y,\n",
    "    '*': lambda x, y: x * y,\n",
    "    '/': lambda x, y: x / y\n",
    "}\n",
    "\n",
    "operation = input(\"Enter operation (+, -, *, /): \")\n",
    "x = float(input(\"Enter first number: \"))\n",
    "y = float(input(\"Enter second number: \"))\n",
    "\n",
    "result = operations[operation](x, y)\n",
    "print(result)"
   ]
  },
  {
   "cell_type": "markdown",
   "id": "431d9585-46d6-4073-930c-d3eb099a36db",
   "metadata": {},
   "source": [
    "# Object-Oriented Approach:\n",
    "Use classes and methods to encapsulate the operations."
   ]
  },
  {
   "cell_type": "code",
   "execution_count": 5,
   "id": "ad55d7a8-df30-415d-b2bd-cb51887b2854",
   "metadata": {},
   "outputs": [
    {
     "name": "stdin",
     "output_type": "stream",
     "text": [
      "Enter operation (+, -, *, /):  *\n",
      "Enter first number:  19\n",
      "Enter second number:  2\n"
     ]
    },
    {
     "name": "stdout",
     "output_type": "stream",
     "text": [
      "38.0\n"
     ]
    }
   ],
   "source": [
    "class Calculator:\n",
    "    def add(self, x, y): return x + y\n",
    "    def subtract(self, x, y): return x - y\n",
    "    def multiply(self, x, y): return x * y\n",
    "    def divide(self, x, y): return x / y\n",
    "\n",
    "calc = Calculator()\n",
    "operations = {\n",
    "    '+': calc.add,\n",
    "    '-': calc.subtract,\n",
    "    '*': calc.multiply,\n",
    "    '/': calc.divide\n",
    "}\n",
    "\n",
    "operation = input(\"Enter operation (+, -, *, /): \")\n",
    "x = float(input(\"Enter first number: \"))\n",
    "y = float(input(\"Enter second number: \"))\n",
    "\n",
    "result = operations[operation](x, y)\n",
    "print(result)"
   ]
  },
  {
   "cell_type": "markdown",
   "id": "0af7a92d-1867-4542-8c9a-2e5048bea38f",
   "metadata": {},
   "source": [
    "# Function Mapping:\n",
    "Define functions and map them directly for execution."
   ]
  },
  {
   "cell_type": "code",
   "execution_count": 6,
   "id": "0ca92942-35c6-4350-ab66-d025575124f9",
   "metadata": {},
   "outputs": [
    {
     "name": "stdin",
     "output_type": "stream",
     "text": [
      "Enter operation (+, -, *, /):  --\n",
      "Enter first number:  19\n",
      "Enter second number:  2\n"
     ]
    },
    {
     "name": "stdout",
     "output_type": "stream",
     "text": [
      "Invalid operation\n"
     ]
    }
   ],
   "source": [
    "def calculate(operation, x, y):\n",
    "    return {\n",
    "        '+': x + y,\n",
    "        '-': x - y,\n",
    "        '*': x * y,\n",
    "        '/': x / y\n",
    "    }.get(operation, \"Invalid operation\")\n",
    "\n",
    "operation = input(\"Enter operation (+, -, *, /): \")\n",
    "\n",
    "x = float(input(\"Enter first number: \"))\n",
    "y = float(input(\"Enter second number: \"))\n",
    "\n",
    "result = calculate(operation, x, y)\n",
    "print(result)"
   ]
  }
 ],
 "metadata": {
  "kernelspec": {
   "display_name": "Python 3 (ipykernel)",
   "language": "python",
   "name": "python3"
  },
  "language_info": {
   "codemirror_mode": {
    "name": "ipython",
    "version": 3
   },
   "file_extension": ".py",
   "mimetype": "text/x-python",
   "name": "python",
   "nbconvert_exporter": "python",
   "pygments_lexer": "ipython3",
   "version": "3.9.13"
  }
 },
 "nbformat": 4,
 "nbformat_minor": 5
}
