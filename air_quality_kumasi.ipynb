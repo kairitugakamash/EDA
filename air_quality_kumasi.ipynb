{
 "cells": [
  {
   "cell_type": "code",
   "execution_count": 2,
   "id": "c9629d09-5031-4cc8-9f31-607136ac3fdd",
   "metadata": {},
   "outputs": [
    {
     "name": "stderr",
     "output_type": "stream",
     "text": [
      "C:\\Users\\jane.waweru\\AppData\\Roaming\\Python\\Python39\\site-packages\\matplotlib\\projections\\__init__.py:63: UserWarning: Unable to import Axes3D. This may be due to multiple versions of Matplotlib being installed (e.g. as a system package and as a pip package). As a result, the 3D projection is not available.\n",
      "  warnings.warn(\"Unable to import Axes3D. This may be due to multiple versions of \"\n"
     ]
    }
   ],
   "source": [
    "import pandas as pd\n",
    "import matplotlib.pyplot as plt #to deal with graphic charts\n",
    "import seaborn as sns #to deal with graphic charts"
   ]
  },
  {
   "cell_type": "code",
   "execution_count": 3,
   "id": "12f46c50-be0e-4aa2-b206-15a586344bb0",
   "metadata": {},
   "outputs": [],
   "source": [
    "df = pd.read_csv(\"air_quality_kumasi.csv\", sep=\";\")"
   ]
  },
  {
   "cell_type": "code",
   "execution_count": 4,
   "id": "daaa6ec0-c936-4164-bb50-66a23e63f0fb",
   "metadata": {},
   "outputs": [
    {
     "data": {
      "text/html": [
       "<div>\n",
       "<style scoped>\n",
       "    .dataframe tbody tr th:only-of-type {\n",
       "        vertical-align: middle;\n",
       "    }\n",
       "\n",
       "    .dataframe tbody tr th {\n",
       "        vertical-align: top;\n",
       "    }\n",
       "\n",
       "    .dataframe thead th {\n",
       "        text-align: right;\n",
       "    }\n",
       "</style>\n",
       "<table border=\"1\" class=\"dataframe\">\n",
       "  <thead>\n",
       "    <tr style=\"text-align: right;\">\n",
       "      <th></th>\n",
       "      <th>sensor_id</th>\n",
       "      <th>sensor_type</th>\n",
       "      <th>location</th>\n",
       "      <th>lat</th>\n",
       "      <th>lon</th>\n",
       "      <th>timestamp</th>\n",
       "      <th>value_type</th>\n",
       "      <th>value</th>\n",
       "    </tr>\n",
       "  </thead>\n",
       "  <tbody>\n",
       "    <tr>\n",
       "      <th>0</th>\n",
       "      <td>4841</td>\n",
       "      <td>pms5003</td>\n",
       "      <td>3620</td>\n",
       "      <td>6.679</td>\n",
       "      <td>-1.574</td>\n",
       "      <td>2023-10-23T14:32:09.677658+00:00</td>\n",
       "      <td>P2</td>\n",
       "      <td>13.67</td>\n",
       "    </tr>\n",
       "    <tr>\n",
       "      <th>1</th>\n",
       "      <td>4841</td>\n",
       "      <td>pms5003</td>\n",
       "      <td>3620</td>\n",
       "      <td>6.679</td>\n",
       "      <td>-1.574</td>\n",
       "      <td>2023-10-23T14:32:09.677658+00:00</td>\n",
       "      <td>P1</td>\n",
       "      <td>13.67</td>\n",
       "    </tr>\n",
       "    <tr>\n",
       "      <th>2</th>\n",
       "      <td>4841</td>\n",
       "      <td>pms5003</td>\n",
       "      <td>3620</td>\n",
       "      <td>6.679</td>\n",
       "      <td>-1.574</td>\n",
       "      <td>2023-10-23T14:32:09.677658+00:00</td>\n",
       "      <td>P0</td>\n",
       "      <td>11.00</td>\n",
       "    </tr>\n",
       "    <tr>\n",
       "      <th>3</th>\n",
       "      <td>4842</td>\n",
       "      <td>DHT22</td>\n",
       "      <td>3620</td>\n",
       "      <td>6.679</td>\n",
       "      <td>-1.574</td>\n",
       "      <td>2023-10-23T14:32:22.136685+00:00</td>\n",
       "      <td>humidity</td>\n",
       "      <td>64.30</td>\n",
       "    </tr>\n",
       "    <tr>\n",
       "      <th>4</th>\n",
       "      <td>4842</td>\n",
       "      <td>DHT22</td>\n",
       "      <td>3620</td>\n",
       "      <td>6.679</td>\n",
       "      <td>-1.574</td>\n",
       "      <td>2023-10-23T14:32:22.136685+00:00</td>\n",
       "      <td>temperature</td>\n",
       "      <td>31.30</td>\n",
       "    </tr>\n",
       "  </tbody>\n",
       "</table>\n",
       "</div>"
      ],
      "text/plain": [
       "   sensor_id sensor_type  location    lat    lon  \\\n",
       "0       4841     pms5003      3620  6.679 -1.574   \n",
       "1       4841     pms5003      3620  6.679 -1.574   \n",
       "2       4841     pms5003      3620  6.679 -1.574   \n",
       "3       4842       DHT22      3620  6.679 -1.574   \n",
       "4       4842       DHT22      3620  6.679 -1.574   \n",
       "\n",
       "                          timestamp   value_type  value  \n",
       "0  2023-10-23T14:32:09.677658+00:00           P2  13.67  \n",
       "1  2023-10-23T14:32:09.677658+00:00           P1  13.67  \n",
       "2  2023-10-23T14:32:09.677658+00:00           P0  11.00  \n",
       "3  2023-10-23T14:32:22.136685+00:00     humidity  64.30  \n",
       "4  2023-10-23T14:32:22.136685+00:00  temperature  31.30  "
      ]
     },
     "execution_count": 4,
     "metadata": {},
     "output_type": "execute_result"
    }
   ],
   "source": [
    "df.head()"
   ]
  },
  {
   "cell_type": "code",
   "execution_count": 5,
   "id": "757ccd1d-5e7b-4fe0-b135-d3c2630a6a46",
   "metadata": {},
   "outputs": [
    {
     "data": {
      "text/plain": [
       "(20411, 8)"
      ]
     },
     "execution_count": 5,
     "metadata": {},
     "output_type": "execute_result"
    }
   ],
   "source": [
    "df.shape"
   ]
  },
  {
   "cell_type": "code",
   "execution_count": 6,
   "id": "be4aa703-52ef-43a6-91c8-c9a6cba17a45",
   "metadata": {},
   "outputs": [
    {
     "name": "stdout",
     "output_type": "stream",
     "text": [
      "<class 'pandas.core.frame.DataFrame'>\n",
      "RangeIndex: 20411 entries, 0 to 20410\n",
      "Data columns (total 8 columns):\n",
      " #   Column       Non-Null Count  Dtype  \n",
      "---  ------       --------------  -----  \n",
      " 0   sensor_id    20411 non-null  int64  \n",
      " 1   sensor_type  20411 non-null  object \n",
      " 2   location     20411 non-null  int64  \n",
      " 3   lat          20411 non-null  float64\n",
      " 4   lon          20411 non-null  float64\n",
      " 5   timestamp    20411 non-null  object \n",
      " 6   value_type   20411 non-null  object \n",
      " 7   value        20411 non-null  float64\n",
      "dtypes: float64(3), int64(2), object(3)\n",
      "memory usage: 1.2+ MB\n"
     ]
    }
   ],
   "source": [
    "df.info()"
   ]
  },
  {
   "cell_type": "code",
   "execution_count": 7,
   "id": "7c932176-23b5-4c71-8034-63277fe0f0e8",
   "metadata": {},
   "outputs": [
    {
     "data": {
      "text/html": [
       "<div>\n",
       "<style scoped>\n",
       "    .dataframe tbody tr th:only-of-type {\n",
       "        vertical-align: middle;\n",
       "    }\n",
       "\n",
       "    .dataframe tbody tr th {\n",
       "        vertical-align: top;\n",
       "    }\n",
       "\n",
       "    .dataframe thead th {\n",
       "        text-align: right;\n",
       "    }\n",
       "</style>\n",
       "<table border=\"1\" class=\"dataframe\">\n",
       "  <thead>\n",
       "    <tr style=\"text-align: right;\">\n",
       "      <th></th>\n",
       "      <th>count</th>\n",
       "      <th>mean</th>\n",
       "      <th>std</th>\n",
       "      <th>min</th>\n",
       "      <th>25%</th>\n",
       "      <th>50%</th>\n",
       "      <th>75%</th>\n",
       "      <th>max</th>\n",
       "    </tr>\n",
       "  </thead>\n",
       "  <tbody>\n",
       "    <tr>\n",
       "      <th>sensor_id</th>\n",
       "      <td>20411.0</td>\n",
       "      <td>4841.384009</td>\n",
       "      <td>4.863719e-01</td>\n",
       "      <td>4841.000</td>\n",
       "      <td>4841.000</td>\n",
       "      <td>4841.000</td>\n",
       "      <td>4842.000</td>\n",
       "      <td>4842.000</td>\n",
       "    </tr>\n",
       "    <tr>\n",
       "      <th>location</th>\n",
       "      <td>20411.0</td>\n",
       "      <td>3620.000000</td>\n",
       "      <td>0.000000e+00</td>\n",
       "      <td>3620.000</td>\n",
       "      <td>3620.000</td>\n",
       "      <td>3620.000</td>\n",
       "      <td>3620.000</td>\n",
       "      <td>3620.000</td>\n",
       "    </tr>\n",
       "    <tr>\n",
       "      <th>lat</th>\n",
       "      <td>20411.0</td>\n",
       "      <td>6.679000</td>\n",
       "      <td>1.099592e-12</td>\n",
       "      <td>6.679</td>\n",
       "      <td>6.679</td>\n",
       "      <td>6.679</td>\n",
       "      <td>6.679</td>\n",
       "      <td>6.679</td>\n",
       "    </tr>\n",
       "    <tr>\n",
       "      <th>lon</th>\n",
       "      <td>20411.0</td>\n",
       "      <td>-1.574000</td>\n",
       "      <td>3.470642e-13</td>\n",
       "      <td>-1.574</td>\n",
       "      <td>-1.574</td>\n",
       "      <td>-1.574</td>\n",
       "      <td>-1.574</td>\n",
       "      <td>-1.574</td>\n",
       "    </tr>\n",
       "    <tr>\n",
       "      <th>value</th>\n",
       "      <td>20411.0</td>\n",
       "      <td>36.256552</td>\n",
       "      <td>2.371419e+01</td>\n",
       "      <td>3.000</td>\n",
       "      <td>19.670</td>\n",
       "      <td>28.000</td>\n",
       "      <td>48.500</td>\n",
       "      <td>267.000</td>\n",
       "    </tr>\n",
       "  </tbody>\n",
       "</table>\n",
       "</div>"
      ],
      "text/plain": [
       "             count         mean           std       min       25%       50%  \\\n",
       "sensor_id  20411.0  4841.384009  4.863719e-01  4841.000  4841.000  4841.000   \n",
       "location   20411.0  3620.000000  0.000000e+00  3620.000  3620.000  3620.000   \n",
       "lat        20411.0     6.679000  1.099592e-12     6.679     6.679     6.679   \n",
       "lon        20411.0    -1.574000  3.470642e-13    -1.574    -1.574    -1.574   \n",
       "value      20411.0    36.256552  2.371419e+01     3.000    19.670    28.000   \n",
       "\n",
       "                75%       max  \n",
       "sensor_id  4842.000  4842.000  \n",
       "location   3620.000  3620.000  \n",
       "lat           6.679     6.679  \n",
       "lon          -1.574    -1.574  \n",
       "value        48.500   267.000  "
      ]
     },
     "execution_count": 7,
     "metadata": {},
     "output_type": "execute_result"
    }
   ],
   "source": [
    "df.describe().T"
   ]
  },
  {
   "cell_type": "code",
   "execution_count": 8,
   "id": "1b4e9030-cb03-4772-b60e-e95e4aa1f6a3",
   "metadata": {},
   "outputs": [
    {
     "data": {
      "text/plain": [
       "20411"
      ]
     },
     "execution_count": 8,
     "metadata": {},
     "output_type": "execute_result"
    }
   ],
   "source": [
    "df['sensor_id'].value_counts().sum()"
   ]
  },
  {
   "cell_type": "code",
   "execution_count": 9,
   "id": "d0e45bbe-5c8e-43eb-bc25-aa6299272e06",
   "metadata": {},
   "outputs": [
    {
     "data": {
      "text/plain": [
       "array([4841, 4842], dtype=int64)"
      ]
     },
     "execution_count": 9,
     "metadata": {},
     "output_type": "execute_result"
    }
   ],
   "source": [
    "df['sensor_id'].unique()"
   ]
  },
  {
   "cell_type": "code",
   "execution_count": 10,
   "id": "c4679ed2-a4da-46dc-b229-03a37b24567e",
   "metadata": {},
   "outputs": [
    {
     "data": {
      "text/plain": [
       "array(['pms5003', 'DHT22'], dtype=object)"
      ]
     },
     "execution_count": 10,
     "metadata": {},
     "output_type": "execute_result"
    }
   ],
   "source": [
    "df['sensor_type'].unique()"
   ]
  },
  {
   "cell_type": "code",
   "execution_count": 11,
   "id": "d423f3f8-65a0-4397-b6d9-4a104078aa1b",
   "metadata": {},
   "outputs": [
    {
     "data": {
      "text/plain": [
       "0"
      ]
     },
     "execution_count": 11,
     "metadata": {},
     "output_type": "execute_result"
    }
   ],
   "source": [
    "#find duplicate values\n",
    "df.duplicated().sum()"
   ]
  },
  {
   "cell_type": "code",
   "execution_count": 12,
   "id": "1c491154-ef86-4bc0-849d-dbecbf52d5dd",
   "metadata": {},
   "outputs": [
    {
     "data": {
      "text/html": [
       "<div>\n",
       "<style scoped>\n",
       "    .dataframe tbody tr th:only-of-type {\n",
       "        vertical-align: middle;\n",
       "    }\n",
       "\n",
       "    .dataframe tbody tr th {\n",
       "        vertical-align: top;\n",
       "    }\n",
       "\n",
       "    .dataframe thead th {\n",
       "        text-align: right;\n",
       "    }\n",
       "</style>\n",
       "<table border=\"1\" class=\"dataframe\">\n",
       "  <thead>\n",
       "    <tr style=\"text-align: right;\">\n",
       "      <th></th>\n",
       "      <th>sensor_id</th>\n",
       "      <th>sensor_type</th>\n",
       "      <th>location</th>\n",
       "      <th>lat</th>\n",
       "      <th>lon</th>\n",
       "      <th>timestamp</th>\n",
       "      <th>value_type</th>\n",
       "      <th>value</th>\n",
       "    </tr>\n",
       "  </thead>\n",
       "  <tbody>\n",
       "    <tr>\n",
       "      <th>0</th>\n",
       "      <td>4841</td>\n",
       "      <td>pms5003</td>\n",
       "      <td>3620</td>\n",
       "      <td>6.679</td>\n",
       "      <td>-1.574</td>\n",
       "      <td>2023-10-23T14:32:09.677658+00:00</td>\n",
       "      <td>P2</td>\n",
       "      <td>13.67</td>\n",
       "    </tr>\n",
       "    <tr>\n",
       "      <th>1</th>\n",
       "      <td>4841</td>\n",
       "      <td>pms5003</td>\n",
       "      <td>3620</td>\n",
       "      <td>6.679</td>\n",
       "      <td>-1.574</td>\n",
       "      <td>2023-10-23T14:32:09.677658+00:00</td>\n",
       "      <td>P1</td>\n",
       "      <td>13.67</td>\n",
       "    </tr>\n",
       "    <tr>\n",
       "      <th>2</th>\n",
       "      <td>4841</td>\n",
       "      <td>pms5003</td>\n",
       "      <td>3620</td>\n",
       "      <td>6.679</td>\n",
       "      <td>-1.574</td>\n",
       "      <td>2023-10-23T14:32:09.677658+00:00</td>\n",
       "      <td>P0</td>\n",
       "      <td>11.00</td>\n",
       "    </tr>\n",
       "    <tr>\n",
       "      <th>3</th>\n",
       "      <td>4842</td>\n",
       "      <td>DHT22</td>\n",
       "      <td>3620</td>\n",
       "      <td>6.679</td>\n",
       "      <td>-1.574</td>\n",
       "      <td>2023-10-23T14:32:22.136685+00:00</td>\n",
       "      <td>humidity</td>\n",
       "      <td>64.30</td>\n",
       "    </tr>\n",
       "    <tr>\n",
       "      <th>4</th>\n",
       "      <td>4842</td>\n",
       "      <td>DHT22</td>\n",
       "      <td>3620</td>\n",
       "      <td>6.679</td>\n",
       "      <td>-1.574</td>\n",
       "      <td>2023-10-23T14:32:22.136685+00:00</td>\n",
       "      <td>temperature</td>\n",
       "      <td>31.30</td>\n",
       "    </tr>\n",
       "    <tr>\n",
       "      <th>...</th>\n",
       "      <td>...</td>\n",
       "      <td>...</td>\n",
       "      <td>...</td>\n",
       "      <td>...</td>\n",
       "      <td>...</td>\n",
       "      <td>...</td>\n",
       "      <td>...</td>\n",
       "      <td>...</td>\n",
       "    </tr>\n",
       "    <tr>\n",
       "      <th>20406</th>\n",
       "      <td>4841</td>\n",
       "      <td>pms5003</td>\n",
       "      <td>3620</td>\n",
       "      <td>6.679</td>\n",
       "      <td>-1.574</td>\n",
       "      <td>2023-10-31T23:44:59.898922+00:00</td>\n",
       "      <td>P2</td>\n",
       "      <td>38.00</td>\n",
       "    </tr>\n",
       "    <tr>\n",
       "      <th>20407</th>\n",
       "      <td>4841</td>\n",
       "      <td>pms5003</td>\n",
       "      <td>3620</td>\n",
       "      <td>6.679</td>\n",
       "      <td>-1.574</td>\n",
       "      <td>2023-10-31T23:44:59.898922+00:00</td>\n",
       "      <td>P1</td>\n",
       "      <td>48.00</td>\n",
       "    </tr>\n",
       "    <tr>\n",
       "      <th>20408</th>\n",
       "      <td>4841</td>\n",
       "      <td>pms5003</td>\n",
       "      <td>3620</td>\n",
       "      <td>6.679</td>\n",
       "      <td>-1.574</td>\n",
       "      <td>2023-10-31T23:44:59.898922+00:00</td>\n",
       "      <td>P0</td>\n",
       "      <td>25.00</td>\n",
       "    </tr>\n",
       "    <tr>\n",
       "      <th>20409</th>\n",
       "      <td>4842</td>\n",
       "      <td>DHT22</td>\n",
       "      <td>3620</td>\n",
       "      <td>6.679</td>\n",
       "      <td>-1.574</td>\n",
       "      <td>2023-10-31T23:45:12.435285+00:00</td>\n",
       "      <td>humidity</td>\n",
       "      <td>85.60</td>\n",
       "    </tr>\n",
       "    <tr>\n",
       "      <th>20410</th>\n",
       "      <td>4842</td>\n",
       "      <td>DHT22</td>\n",
       "      <td>3620</td>\n",
       "      <td>6.679</td>\n",
       "      <td>-1.574</td>\n",
       "      <td>2023-10-31T23:45:12.435285+00:00</td>\n",
       "      <td>temperature</td>\n",
       "      <td>25.40</td>\n",
       "    </tr>\n",
       "  </tbody>\n",
       "</table>\n",
       "<p>20411 rows × 8 columns</p>\n",
       "</div>"
      ],
      "text/plain": [
       "       sensor_id sensor_type  location    lat    lon  \\\n",
       "0           4841     pms5003      3620  6.679 -1.574   \n",
       "1           4841     pms5003      3620  6.679 -1.574   \n",
       "2           4841     pms5003      3620  6.679 -1.574   \n",
       "3           4842       DHT22      3620  6.679 -1.574   \n",
       "4           4842       DHT22      3620  6.679 -1.574   \n",
       "...          ...         ...       ...    ...    ...   \n",
       "20406       4841     pms5003      3620  6.679 -1.574   \n",
       "20407       4841     pms5003      3620  6.679 -1.574   \n",
       "20408       4841     pms5003      3620  6.679 -1.574   \n",
       "20409       4842       DHT22      3620  6.679 -1.574   \n",
       "20410       4842       DHT22      3620  6.679 -1.574   \n",
       "\n",
       "                              timestamp   value_type  value  \n",
       "0      2023-10-23T14:32:09.677658+00:00           P2  13.67  \n",
       "1      2023-10-23T14:32:09.677658+00:00           P1  13.67  \n",
       "2      2023-10-23T14:32:09.677658+00:00           P0  11.00  \n",
       "3      2023-10-23T14:32:22.136685+00:00     humidity  64.30  \n",
       "4      2023-10-23T14:32:22.136685+00:00  temperature  31.30  \n",
       "...                                 ...          ...    ...  \n",
       "20406  2023-10-31T23:44:59.898922+00:00           P2  38.00  \n",
       "20407  2023-10-31T23:44:59.898922+00:00           P1  48.00  \n",
       "20408  2023-10-31T23:44:59.898922+00:00           P0  25.00  \n",
       "20409  2023-10-31T23:45:12.435285+00:00     humidity  85.60  \n",
       "20410  2023-10-31T23:45:12.435285+00:00  temperature  25.40  \n",
       "\n",
       "[20411 rows x 8 columns]"
      ]
     },
     "execution_count": 12,
     "metadata": {},
     "output_type": "execute_result"
    }
   ],
   "source": [
    "df"
   ]
  },
  {
   "cell_type": "code",
   "execution_count": 13,
   "id": "2c3fd825-511c-463e-bc4e-870d75f0f684",
   "metadata": {},
   "outputs": [
    {
     "name": "stdout",
     "output_type": "stream",
     "text": [
      "\n",
      "Unique sensor_id : [4841 4842]\n",
      "\n",
      "\n",
      "Unique sensor_type : ['pms5003' 'DHT22']\n",
      "\n",
      "\n",
      "Unique location : [3620]\n",
      "\n",
      "\n",
      "Unique lat : [6.679]\n",
      "\n",
      "\n",
      "Unique lon : [-1.574]\n",
      "\n",
      "\n",
      "Unique timestamp : ['2023-10-23T14:32:09.677658+00:00' '2023-10-23T14:32:22.136685+00:00'\n",
      " '2023-10-23T14:34:59.279593+00:00' ... '2023-10-31T23:42:22.448095+00:00'\n",
      " '2023-10-31T23:44:59.898922+00:00' '2023-10-31T23:45:12.435285+00:00']\n",
      "\n",
      "\n",
      "Unique value_type : ['P2' 'P1' 'P0' 'humidity' 'temperature']\n",
      "\n",
      "\n",
      "Unique value : [13.67 11.   64.3  ... 42.4  68.33 69.75]\n",
      "\n"
     ]
    }
   ],
   "source": [
    "print(f\"\\nUnique sensor_id : {df.sensor_id.unique()}\\n\")\n",
    "print(f\"\\nUnique sensor_type : {df.sensor_type.unique()}\\n\")\n",
    "print(f\"\\nUnique location : {df.location.unique()}\\n\")\n",
    "print(f\"\\nUnique lat : {df.lat.unique()}\\n\")\n",
    "print(f\"\\nUnique lon : {df.lon.unique()}\\n\")\n",
    "print(f\"\\nUnique timestamp : {df.timestamp.unique()}\\n\")\n",
    "print(f\"\\nUnique value_type : {df.value_type.unique()}\\n\")\n",
    "print(f\"\\nUnique value : {df.value.unique()}\\n\")"
   ]
  },
  {
   "cell_type": "code",
   "execution_count": 14,
   "id": "01a7a296-95b0-48a9-b8a9-fe3a9e32b44d",
   "metadata": {},
   "outputs": [
    {
     "data": {
      "image/png": "[encoded data removed]",
      "text/plain": [
       "<Figure size 640x480 with 1 Axes>"
      ]
     },
     "metadata": {},
     "output_type": "display_data"
    }
   ],
   "source": [
    "df[\"sensor_id\"].value_counts(normalize = True).plot(kind = 'pie') \n",
    "plt.show()"
   ]
  },
  {
   "cell_type": "code",
   "execution_count": 15,
   "id": "1acb20f8-9297-4557-9fdf-b562abd0f52a",
   "metadata": {},
   "outputs": [
    {
     "data": {
      "image/png": "[encoded data removed]",
      "text/plain": [
       "<Figure size 640x480 with 1 Axes>"
      ]
     },
     "metadata": {},
     "output_type": "display_data"
    }
   ],
   "source": [
    "df[\"sensor_type\"].value_counts(normalize = True).plot(kind = 'pie') \n",
    "plt.show()"
   ]
  },
  {
   "cell_type": "code",
   "execution_count": 16,
   "id": "d706aaf5-f228-4943-afc6-4aa2b82327d4",
   "metadata": {},
   "outputs": [
    {
     "data": {
      "image/png": "[encoded data removed]",
      "text/plain": [
       "<Figure size 640x480 with 1 Axes>"
      ]
     },
     "metadata": {},
     "output_type": "display_data"
    }
   ],
   "source": [
    "df[\"value_type\"].value_counts(normalize = True).plot(kind = 'pie') \n",
    "plt.show()"
   ]
  },
  {
   "cell_type": "code",
   "execution_count": 17,
   "id": "48613fe4-c9db-4b1c-82f3-c6ab75c59272",
   "metadata": {},
   "outputs": [
    {
     "data": {
      "text/plain": [
       "20.00     323\n",
       "15.00     280\n",
       "16.00     275\n",
       "17.00     266\n",
       "13.00     263\n",
       "         ... \n",
       "113.33      1\n",
       "76.67       1\n",
       "21.20       1\n",
       "5.20        1\n",
       "69.75       1\n",
       "Name: value, Length: 1098, dtype: int64"
      ]
     },
     "execution_count": 17,
     "metadata": {},
     "output_type": "execute_result"
    }
   ],
   "source": [
    "df[\"value\"].value_counts()"
   ]
  },
  {
   "cell_type": "code",
   "execution_count": 18,
   "id": "f4bb3a28-7fef-46b3-93df-d5d194447a43",
   "metadata": {},
   "outputs": [
    {
     "data": {
      "image/png": "[encoded data removed]",
      "text/plain": [
       "<Figure size 640x480 with 1 Axes>"
      ]
     },
     "metadata": {},
     "output_type": "display_data"
    }
   ],
   "source": [
    "df[\"value\"].value_counts(normalize = True)[:30].plot(kind = 'pie') \n",
    "plt.show()"
   ]
  },
  {
   "cell_type": "code",
   "execution_count": 19,
   "id": "4a5a26e5-8862-4959-a861-8cb60f67e896",
   "metadata": {},
   "outputs": [
    {
     "data": {
      "text/html": [
       "<div>\n",
       "<style scoped>\n",
       "    .dataframe tbody tr th:only-of-type {\n",
       "        vertical-align: middle;\n",
       "    }\n",
       "\n",
       "    .dataframe tbody tr th {\n",
       "        vertical-align: top;\n",
       "    }\n",
       "\n",
       "    .dataframe thead th {\n",
       "        text-align: right;\n",
       "    }\n",
       "</style>\n",
       "<table border=\"1\" class=\"dataframe\">\n",
       "  <thead>\n",
       "    <tr style=\"text-align: right;\">\n",
       "      <th></th>\n",
       "      <th>sensor_id</th>\n",
       "      <th>location</th>\n",
       "      <th>lat</th>\n",
       "      <th>lon</th>\n",
       "      <th>value</th>\n",
       "    </tr>\n",
       "    <tr>\n",
       "      <th>sensor_type</th>\n",
       "      <th></th>\n",
       "      <th></th>\n",
       "      <th></th>\n",
       "      <th></th>\n",
       "      <th></th>\n",
       "    </tr>\n",
       "  </thead>\n",
       "  <tbody>\n",
       "    <tr>\n",
       "      <th>DHT22</th>\n",
       "      <td>4842.0</td>\n",
       "      <td>3620.0</td>\n",
       "      <td>6.679</td>\n",
       "      <td>-1.574</td>\n",
       "      <td>51.853483</td>\n",
       "    </tr>\n",
       "    <tr>\n",
       "      <th>pms5003</th>\n",
       "      <td>4841.0</td>\n",
       "      <td>3620.0</td>\n",
       "      <td>6.679</td>\n",
       "      <td>-1.574</td>\n",
       "      <td>26.533435</td>\n",
       "    </tr>\n",
       "  </tbody>\n",
       "</table>\n",
       "</div>"
      ],
      "text/plain": [
       "             sensor_id  location    lat    lon      value\n",
       "sensor_type                                              \n",
       "DHT22           4842.0    3620.0  6.679 -1.574  51.853483\n",
       "pms5003         4841.0    3620.0  6.679 -1.574  26.533435"
      ]
     },
     "execution_count": 19,
     "metadata": {},
     "output_type": "execute_result"
    }
   ],
   "source": [
    "sensortype = df.groupby(['sensor_type']).mean()\n",
    "sensortype"
   ]
  },
  {
   "cell_type": "code",
   "execution_count": 20,
   "id": "66b02a70-9294-4f01-ad57-b87114f25097",
   "metadata": {},
   "outputs": [
    {
     "data": {
      "text/html": [
       "<div>\n",
       "<style scoped>\n",
       "    .dataframe tbody tr th:only-of-type {\n",
       "        vertical-align: middle;\n",
       "    }\n",
       "\n",
       "    .dataframe tbody tr th {\n",
       "        vertical-align: top;\n",
       "    }\n",
       "\n",
       "    .dataframe thead th {\n",
       "        text-align: right;\n",
       "    }\n",
       "</style>\n",
       "<table border=\"1\" class=\"dataframe\">\n",
       "  <thead>\n",
       "    <tr style=\"text-align: right;\">\n",
       "      <th></th>\n",
       "      <th>location</th>\n",
       "      <th>lat</th>\n",
       "      <th>lon</th>\n",
       "      <th>value</th>\n",
       "    </tr>\n",
       "    <tr>\n",
       "      <th>sensor_id</th>\n",
       "      <th></th>\n",
       "      <th></th>\n",
       "      <th></th>\n",
       "      <th></th>\n",
       "    </tr>\n",
       "  </thead>\n",
       "  <tbody>\n",
       "    <tr>\n",
       "      <th>4841</th>\n",
       "      <td>3620.0</td>\n",
       "      <td>6.679</td>\n",
       "      <td>-1.574</td>\n",
       "      <td>26.533435</td>\n",
       "    </tr>\n",
       "    <tr>\n",
       "      <th>4842</th>\n",
       "      <td>3620.0</td>\n",
       "      <td>6.679</td>\n",
       "      <td>-1.574</td>\n",
       "      <td>51.853483</td>\n",
       "    </tr>\n",
       "  </tbody>\n",
       "</table>\n",
       "</div>"
      ],
      "text/plain": [
       "           location    lat    lon      value\n",
       "sensor_id                                   \n",
       "4841         3620.0  6.679 -1.574  26.533435\n",
       "4842         3620.0  6.679 -1.574  51.853483"
      ]
     },
     "execution_count": 20,
     "metadata": {},
     "output_type": "execute_result"
    }
   ],
   "source": [
    "sensorid = df.groupby(['sensor_id']).mean()\n",
    "sensorid"
   ]
  },
  {
   "cell_type": "code",
   "execution_count": 21,
   "id": "db4140f8-6992-441e-875d-c15d510610f6",
   "metadata": {},
   "outputs": [
    {
     "data": {
      "text/html": [
       "<div>\n",
       "<style scoped>\n",
       "    .dataframe tbody tr th:only-of-type {\n",
       "        vertical-align: middle;\n",
       "    }\n",
       "\n",
       "    .dataframe tbody tr th {\n",
       "        vertical-align: top;\n",
       "    }\n",
       "\n",
       "    .dataframe thead th {\n",
       "        text-align: right;\n",
       "    }\n",
       "</style>\n",
       "<table border=\"1\" class=\"dataframe\">\n",
       "  <thead>\n",
       "    <tr style=\"text-align: right;\">\n",
       "      <th></th>\n",
       "      <th>value</th>\n",
       "    </tr>\n",
       "    <tr>\n",
       "      <th>value_type</th>\n",
       "      <th></th>\n",
       "    </tr>\n",
       "  </thead>\n",
       "  <tbody>\n",
       "    <tr>\n",
       "      <th>P0</th>\n",
       "      <td>18.151007</td>\n",
       "    </tr>\n",
       "    <tr>\n",
       "      <th>P1</th>\n",
       "      <td>32.663305</td>\n",
       "    </tr>\n",
       "    <tr>\n",
       "      <th>P2</th>\n",
       "      <td>28.785994</td>\n",
       "    </tr>\n",
       "    <tr>\n",
       "      <th>humidity</th>\n",
       "      <td>75.199107</td>\n",
       "    </tr>\n",
       "    <tr>\n",
       "      <th>temperature</th>\n",
       "      <td>28.507859</td>\n",
       "    </tr>\n",
       "  </tbody>\n",
       "</table>\n",
       "</div>"
      ],
      "text/plain": [
       "                 value\n",
       "value_type            \n",
       "P0           18.151007\n",
       "P1           32.663305\n",
       "P2           28.785994\n",
       "humidity     75.199107\n",
       "temperature  28.507859"
      ]
     },
     "execution_count": 21,
     "metadata": {},
     "output_type": "execute_result"
    }
   ],
   "source": [
    "valuetype = df.groupby(['value_type'])[['value']].mean()\n",
    "valuetype"
   ]
  },
  {
   "cell_type": "code",
   "execution_count": 22,
   "id": "3faa94da-02c5-4fb2-8c95-5133757c7cec",
   "metadata": {},
   "outputs": [
    {
     "data": {
      "text/html": [
       "<div>\n",
       "<style scoped>\n",
       "    .dataframe tbody tr th:only-of-type {\n",
       "        vertical-align: middle;\n",
       "    }\n",
       "\n",
       "    .dataframe tbody tr th {\n",
       "        vertical-align: top;\n",
       "    }\n",
       "\n",
       "    .dataframe thead th {\n",
       "        text-align: right;\n",
       "    }\n",
       "</style>\n",
       "<table border=\"1\" class=\"dataframe\">\n",
       "  <thead>\n",
       "    <tr style=\"text-align: right;\">\n",
       "      <th></th>\n",
       "      <th>value</th>\n",
       "    </tr>\n",
       "    <tr>\n",
       "      <th>sensor_type</th>\n",
       "      <th></th>\n",
       "    </tr>\n",
       "  </thead>\n",
       "  <tbody>\n",
       "    <tr>\n",
       "      <th>DHT22</th>\n",
       "      <td>51.853483</td>\n",
       "    </tr>\n",
       "    <tr>\n",
       "      <th>pms5003</th>\n",
       "      <td>26.533435</td>\n",
       "    </tr>\n",
       "  </tbody>\n",
       "</table>\n",
       "</div>"
      ],
      "text/plain": [
       "                 value\n",
       "sensor_type           \n",
       "DHT22        51.853483\n",
       "pms5003      26.533435"
      ]
     },
     "execution_count": 22,
     "metadata": {},
     "output_type": "execute_result"
    }
   ],
   "source": [
    "sensortype1 = df.groupby(['sensor_type'])[['value']].mean()\n",
    "sensortype1"
   ]
  },
  {
   "cell_type": "code",
   "execution_count": 23,
   "id": "126dd3c3-5d52-4825-a808-7906f6b62469",
   "metadata": {},
   "outputs": [
    {
     "data": {
      "text/html": [
       "<div>\n",
       "<style scoped>\n",
       "    .dataframe tbody tr th:only-of-type {\n",
       "        vertical-align: middle;\n",
       "    }\n",
       "\n",
       "    .dataframe tbody tr th {\n",
       "        vertical-align: top;\n",
       "    }\n",
       "\n",
       "    .dataframe thead th {\n",
       "        text-align: right;\n",
       "    }\n",
       "</style>\n",
       "<table border=\"1\" class=\"dataframe\">\n",
       "  <thead>\n",
       "    <tr style=\"text-align: right;\">\n",
       "      <th></th>\n",
       "      <th>value</th>\n",
       "    </tr>\n",
       "    <tr>\n",
       "      <th>sensor_id</th>\n",
       "      <th></th>\n",
       "    </tr>\n",
       "  </thead>\n",
       "  <tbody>\n",
       "    <tr>\n",
       "      <th>4841</th>\n",
       "      <td>26.533435</td>\n",
       "    </tr>\n",
       "    <tr>\n",
       "      <th>4842</th>\n",
       "      <td>51.853483</td>\n",
       "    </tr>\n",
       "  </tbody>\n",
       "</table>\n",
       "</div>"
      ],
      "text/plain": [
       "               value\n",
       "sensor_id           \n",
       "4841       26.533435\n",
       "4842       51.853483"
      ]
     },
     "execution_count": 23,
     "metadata": {},
     "output_type": "execute_result"
    }
   ],
   "source": [
    "sensorid1 = df.groupby(['sensor_id'])[['value']].mean()\n",
    "sensorid1"
   ]
  },
  {
   "cell_type": "code",
   "execution_count": 24,
   "id": "0331a13a-3835-4f10-941b-abe3b2b8fc6b",
   "metadata": {},
   "outputs": [],
   "source": [
    "value = df.groupby(['value_type'])[['value']].mean()\n",
    "value.sort_values(by='value', ascending=True, inplace=True)"
   ]
  },
  {
   "cell_type": "code",
   "execution_count": 25,
   "id": "424feb78-4e1c-418e-96e8-a8b3f0063bf0",
   "metadata": {},
   "outputs": [
    {
     "data": {
      "image/png": "[encoded data removed]",
      "text/plain": [
       "<Figure size 800x600 with 1 Axes>"
      ]
     },
     "metadata": {},
     "output_type": "display_data"
    }
   ],
   "source": [
    "x   = value.plot(kind='barh', cmap='PRGn' , figsize=(8,6) ,title= 'Average value by value type')\n",
    "\n",
    "for c in x.containers:\n",
    "        # set the bar label\n",
    "    x.bar_label(c, fmt='%.0f',label_type='center', color='w',rotation=0)"
   ]
  },
  {
   "cell_type": "code",
   "execution_count": 26,
   "id": "5dc0f9c9-eb9c-403d-927a-d5b405f500d0",
   "metadata": {},
   "outputs": [
    {
     "data": {
      "text/plain": [
       "value_type\n",
       "P0             4191\n",
       "P1             4191\n",
       "P2             4191\n",
       "humidity       3919\n",
       "temperature    3919\n",
       "Name: sensor_type, dtype: int64"
      ]
     },
     "execution_count": 26,
     "metadata": {},
     "output_type": "execute_result"
    }
   ],
   "source": [
    "data = df.groupby(['value_type'])['sensor_type'].count().sort_values(ascending=False) #to extract the count \n",
    "data"
   ]
  }
 ],
 "metadata": {
  "kernelspec": {
   "display_name": "Python 3 (ipykernel)",
   "language": "python",
   "name": "python3"
  },
  "language_info": {
   "codemirror_mode": {
    "name": "ipython",
    "version": 3
   },
   "file_extension": ".py",
   "mimetype": "text/x-python",
   "name": "python",
   "nbconvert_exporter": "python",
   "pygments_lexer": "ipython3",
   "version": "3.9.13"
  }
 },
 "nbformat": 4,
 "nbformat_minor": 5
}
