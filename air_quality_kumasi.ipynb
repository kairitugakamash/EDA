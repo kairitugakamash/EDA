{
 "cells": [
  {
   "cell_type": "code",
   "execution_count": 1,
   "id": "fdfa83bc-2c19-44a9-b3b4-656bfb2bca47",
   "metadata": {},
   "outputs": [
    {
     "data": {
      "text/plain": [
       "'C:\\\\Users\\\\jane.waweru\\\\projects\\\\Mine\\\\EDA\\\\data'"
      ]
     },
     "execution_count": 1,
     "metadata": {},
     "output_type": "execute_result"
    }
   ],
   "source": [
    "import os\n",
    "os.getcwd()"
   ]
  },
  {
   "cell_type": "code",
   "execution_count": 2,
   "id": "3fbc077a-61ac-41c4-a35c-e704ba966ac4",
   "metadata": {},
   "outputs": [
    {
     "name": "stdout",
     "output_type": "stream",
     "text": [
      "C:\\Users\\jane.waweru\\projects\\Mine\\air_quality\n"
     ]
    }
   ],
   "source": [
    "import os\n",
    "\n",
    "desired_path = \"C://Users//jane.waweru//projects//Mine/air_quality\"\n",
    "\n",
    "if os.getcwd() != desired_path:\n",
    "    os.chdir(desired_path)\n",
    "else:\n",
    "    pass\n",
    "\n",
    "print(os.getcwd())"
   ]
  },
  {
   "cell_type": "code",
   "execution_count": 3,
   "id": "c9629d09-5031-4cc8-9f31-607136ac3fdd",
   "metadata": {},
   "outputs": [],
   "source": [
    "import pandas as pd\n"
   ]
  },
  {
   "cell_type": "code",
   "execution_count": 8,
   "id": "12f46c50-be0e-4aa2-b206-15a586344bb0",
   "metadata": {},
   "outputs": [],
   "source": [
    "df = pd.read_csv(\"air_quality_kumasi.csv\", sep=\";\")"
   ]
  },
  {
   "cell_type": "code",
   "execution_count": 9,
   "id": "daaa6ec0-c936-4164-bb50-66a23e63f0fb",
   "metadata": {},
   "outputs": [
    {
     "data": {
      "text/html": [
       "<div>\n",
       "<style scoped>\n",
       "    .dataframe tbody tr th:only-of-type {\n",
       "        vertical-align: middle;\n",
       "    }\n",
       "\n",
       "    .dataframe tbody tr th {\n",
       "        vertical-align: top;\n",
       "    }\n",
       "\n",
       "    .dataframe thead th {\n",
       "        text-align: right;\n",
       "    }\n",
       "</style>\n",
       "<table border=\"1\" class=\"dataframe\">\n",
       "  <thead>\n",
       "    <tr style=\"text-align: right;\">\n",
       "      <th></th>\n",
       "      <th>sensor_id</th>\n",
       "      <th>sensor_type</th>\n",
       "      <th>location</th>\n",
       "      <th>lat</th>\n",
       "      <th>lon</th>\n",
       "      <th>timestamp</th>\n",
       "      <th>value_type</th>\n",
       "      <th>value</th>\n",
       "    </tr>\n",
       "  </thead>\n",
       "  <tbody>\n",
       "    <tr>\n",
       "      <th>0</th>\n",
       "      <td>4841</td>\n",
       "      <td>pms5003</td>\n",
       "      <td>3620</td>\n",
       "      <td>6.679</td>\n",
       "      <td>-1.574</td>\n",
       "      <td>2023-10-23T14:32:09.677658+00:00</td>\n",
       "      <td>P2</td>\n",
       "      <td>13.67</td>\n",
       "    </tr>\n",
       "    <tr>\n",
       "      <th>1</th>\n",
       "      <td>4841</td>\n",
       "      <td>pms5003</td>\n",
       "      <td>3620</td>\n",
       "      <td>6.679</td>\n",
       "      <td>-1.574</td>\n",
       "      <td>2023-10-23T14:32:09.677658+00:00</td>\n",
       "      <td>P1</td>\n",
       "      <td>13.67</td>\n",
       "    </tr>\n",
       "    <tr>\n",
       "      <th>2</th>\n",
       "      <td>4841</td>\n",
       "      <td>pms5003</td>\n",
       "      <td>3620</td>\n",
       "      <td>6.679</td>\n",
       "      <td>-1.574</td>\n",
       "      <td>2023-10-23T14:32:09.677658+00:00</td>\n",
       "      <td>P0</td>\n",
       "      <td>11.00</td>\n",
       "    </tr>\n",
       "    <tr>\n",
       "      <th>3</th>\n",
       "      <td>4842</td>\n",
       "      <td>DHT22</td>\n",
       "      <td>3620</td>\n",
       "      <td>6.679</td>\n",
       "      <td>-1.574</td>\n",
       "      <td>2023-10-23T14:32:22.136685+00:00</td>\n",
       "      <td>humidity</td>\n",
       "      <td>64.30</td>\n",
       "    </tr>\n",
       "    <tr>\n",
       "      <th>4</th>\n",
       "      <td>4842</td>\n",
       "      <td>DHT22</td>\n",
       "      <td>3620</td>\n",
       "      <td>6.679</td>\n",
       "      <td>-1.574</td>\n",
       "      <td>2023-10-23T14:32:22.136685+00:00</td>\n",
       "      <td>temperature</td>\n",
       "      <td>31.30</td>\n",
       "    </tr>\n",
       "  </tbody>\n",
       "</table>\n",
       "</div>"
      ],
      "text/plain": [
       "   sensor_id sensor_type  location    lat    lon  \\\n",
       "0       4841     pms5003      3620  6.679 -1.574   \n",
       "1       4841     pms5003      3620  6.679 -1.574   \n",
       "2       4841     pms5003      3620  6.679 -1.574   \n",
       "3       4842       DHT22      3620  6.679 -1.574   \n",
       "4       4842       DHT22      3620  6.679 -1.574   \n",
       "\n",
       "                          timestamp   value_type  value  \n",
       "0  2023-10-23T14:32:09.677658+00:00           P2  13.67  \n",
       "1  2023-10-23T14:32:09.677658+00:00           P1  13.67  \n",
       "2  2023-10-23T14:32:09.677658+00:00           P0  11.00  \n",
       "3  2023-10-23T14:32:22.136685+00:00     humidity  64.30  \n",
       "4  2023-10-23T14:32:22.136685+00:00  temperature  31.30  "
      ]
     },
     "execution_count": 9,
     "metadata": {},
     "output_type": "execute_result"
    }
   ],
   "source": [
    "df.head()"
   ]
  },
  {
   "cell_type": "code",
   "execution_count": 10,
   "id": "757ccd1d-5e7b-4fe0-b135-d3c2630a6a46",
   "metadata": {},
   "outputs": [
    {
     "data": {
      "text/plain": [
       "(20411, 8)"
      ]
     },
     "execution_count": 10,
     "metadata": {},
     "output_type": "execute_result"
    }
   ],
   "source": [
    "df.shape"
   ]
  },
  {
   "cell_type": "code",
   "execution_count": 12,
   "id": "be4aa703-52ef-43a6-91c8-c9a6cba17a45",
   "metadata": {},
   "outputs": [
    {
     "name": "stdout",
     "output_type": "stream",
     "text": [
      "<class 'pandas.core.frame.DataFrame'>\n",
      "RangeIndex: 20411 entries, 0 to 20410\n",
      "Data columns (total 8 columns):\n",
      " #   Column       Non-Null Count  Dtype  \n",
      "---  ------       --------------  -----  \n",
      " 0   sensor_id    20411 non-null  int64  \n",
      " 1   sensor_type  20411 non-null  object \n",
      " 2   location     20411 non-null  int64  \n",
      " 3   lat          20411 non-null  float64\n",
      " 4   lon          20411 non-null  float64\n",
      " 5   timestamp    20411 non-null  object \n",
      " 6   value_type   20411 non-null  object \n",
      " 7   value        20411 non-null  float64\n",
      "dtypes: float64(3), int64(2), object(3)\n",
      "memory usage: 1.2+ MB\n"
     ]
    }
   ],
   "source": [
    "df.info()"
   ]
  },
  {
   "cell_type": "code",
   "execution_count": 13,
   "id": "7c932176-23b5-4c71-8034-63277fe0f0e8",
   "metadata": {},
   "outputs": [
    {
     "data": {
      "text/html": [
       "<div>\n",
       "<style scoped>\n",
       "    .dataframe tbody tr th:only-of-type {\n",
       "        vertical-align: middle;\n",
       "    }\n",
       "\n",
       "    .dataframe tbody tr th {\n",
       "        vertical-align: top;\n",
       "    }\n",
       "\n",
       "    .dataframe thead th {\n",
       "        text-align: right;\n",
       "    }\n",
       "</style>\n",
       "<table border=\"1\" class=\"dataframe\">\n",
       "  <thead>\n",
       "    <tr style=\"text-align: right;\">\n",
       "      <th></th>\n",
       "      <th>count</th>\n",
       "      <th>mean</th>\n",
       "      <th>std</th>\n",
       "      <th>min</th>\n",
       "      <th>25%</th>\n",
       "      <th>50%</th>\n",
       "      <th>75%</th>\n",
       "      <th>max</th>\n",
       "    </tr>\n",
       "  </thead>\n",
       "  <tbody>\n",
       "    <tr>\n",
       "      <th>sensor_id</th>\n",
       "      <td>20411.0</td>\n",
       "      <td>4841.384009</td>\n",
       "      <td>4.863719e-01</td>\n",
       "      <td>4841.000</td>\n",
       "      <td>4841.000</td>\n",
       "      <td>4841.000</td>\n",
       "      <td>4842.000</td>\n",
       "      <td>4842.000</td>\n",
       "    </tr>\n",
       "    <tr>\n",
       "      <th>location</th>\n",
       "      <td>20411.0</td>\n",
       "      <td>3620.000000</td>\n",
       "      <td>0.000000e+00</td>\n",
       "      <td>3620.000</td>\n",
       "      <td>3620.000</td>\n",
       "      <td>3620.000</td>\n",
       "      <td>3620.000</td>\n",
       "      <td>3620.000</td>\n",
       "    </tr>\n",
       "    <tr>\n",
       "      <th>lat</th>\n",
       "      <td>20411.0</td>\n",
       "      <td>6.679000</td>\n",
       "      <td>1.099592e-12</td>\n",
       "      <td>6.679</td>\n",
       "      <td>6.679</td>\n",
       "      <td>6.679</td>\n",
       "      <td>6.679</td>\n",
       "      <td>6.679</td>\n",
       "    </tr>\n",
       "    <tr>\n",
       "      <th>lon</th>\n",
       "      <td>20411.0</td>\n",
       "      <td>-1.574000</td>\n",
       "      <td>3.470642e-13</td>\n",
       "      <td>-1.574</td>\n",
       "      <td>-1.574</td>\n",
       "      <td>-1.574</td>\n",
       "      <td>-1.574</td>\n",
       "      <td>-1.574</td>\n",
       "    </tr>\n",
       "    <tr>\n",
       "      <th>value</th>\n",
       "      <td>20411.0</td>\n",
       "      <td>36.256552</td>\n",
       "      <td>2.371419e+01</td>\n",
       "      <td>3.000</td>\n",
       "      <td>19.670</td>\n",
       "      <td>28.000</td>\n",
       "      <td>48.500</td>\n",
       "      <td>267.000</td>\n",
       "    </tr>\n",
       "  </tbody>\n",
       "</table>\n",
       "</div>"
      ],
      "text/plain": [
       "             count         mean           std       min       25%       50%  \\\n",
       "sensor_id  20411.0  4841.384009  4.863719e-01  4841.000  4841.000  4841.000   \n",
       "location   20411.0  3620.000000  0.000000e+00  3620.000  3620.000  3620.000   \n",
       "lat        20411.0     6.679000  1.099592e-12     6.679     6.679     6.679   \n",
       "lon        20411.0    -1.574000  3.470642e-13    -1.574    -1.574    -1.574   \n",
       "value      20411.0    36.256552  2.371419e+01     3.000    19.670    28.000   \n",
       "\n",
       "                75%       max  \n",
       "sensor_id  4842.000  4842.000  \n",
       "location   3620.000  3620.000  \n",
       "lat           6.679     6.679  \n",
       "lon          -1.574    -1.574  \n",
       "value        48.500   267.000  "
      ]
     },
     "execution_count": 13,
     "metadata": {},
     "output_type": "execute_result"
    }
   ],
   "source": [
    "df.describe().T"
   ]
  },
  {
   "cell_type": "code",
   "execution_count": 14,
   "id": "1b4e9030-cb03-4772-b60e-e95e4aa1f6a3",
   "metadata": {},
   "outputs": [
    {
     "data": {
      "text/plain": [
       "20411"
      ]
     },
     "execution_count": 14,
     "metadata": {},
     "output_type": "execute_result"
    }
   ],
   "source": [
    "df['sensor_id'].value_counts().sum()"
   ]
  },
  {
   "cell_type": "code",
   "execution_count": 15,
   "id": "d0e45bbe-5c8e-43eb-bc25-aa6299272e06",
   "metadata": {},
   "outputs": [
    {
     "data": {
      "text/plain": [
       "array([4841, 4842], dtype=int64)"
      ]
     },
     "execution_count": 15,
     "metadata": {},
     "output_type": "execute_result"
    }
   ],
   "source": [
    "df['sensor_id'].unique()"
   ]
  },
  {
   "cell_type": "code",
   "execution_count": 16,
   "id": "c4679ed2-a4da-46dc-b229-03a37b24567e",
   "metadata": {},
   "outputs": [
    {
     "data": {
      "text/plain": [
       "array(['pms5003', 'DHT22'], dtype=object)"
      ]
     },
     "execution_count": 16,
     "metadata": {},
     "output_type": "execute_result"
    }
   ],
   "source": [
    "df['sensor_type'].unique()"
   ]
  },
  {
   "cell_type": "code",
   "execution_count": null,
   "id": "64a51080-3f54-4e2d-bc9f-fa2096ceaa29",
   "metadata": {},
   "outputs": [],
   "source": []
  }
 ],
 "metadata": {
  "kernelspec": {
   "display_name": "Python 3 (ipykernel)",
   "language": "python",
   "name": "python3"
  },
  "language_info": {
   "codemirror_mode": {
    "name": "ipython",
    "version": 3
   },
   "file_extension": ".py",
   "mimetype": "text/x-python",
   "name": "python",
   "nbconvert_exporter": "python",
   "pygments_lexer": "ipython3",
   "version": "3.9.13"
  }
 },
 "nbformat": 4,
 "nbformat_minor": 5
}
