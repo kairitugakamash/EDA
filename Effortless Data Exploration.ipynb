{
 "cells": [
  {
   "cell_type": "markdown",
   "metadata": {
    "application/vnd.databricks.v1+cell": {
     "cellMetadata": {},
     "inputWidgets": {},
     "nuid": "b8f88878-f259-4da2-bce9-35ac32c3dc7d",
     "showTitle": false,
     "tableResultSettingsMap": {},
     "title": ""
    }
   },
   "source": [
    "# Python Pandas Functions for Effortless Data Exploration"
   ]
  },
  {
   "cell_type": "code",
   "execution_count": null,
   "metadata": {},
   "outputs": [
    {
     "name": "stdout",
     "output_type": "stream",
     "text": [
      "Python interpreter will be restarted.\n",
      "Requirement already satisfied: faker in /local_disk0/.ephemeral_nfs/envs/pythonEnv-16eb0dc8-37d8-4d3e-a4f0-85627df0243f/lib/python3.9/site-packages (33.3.0)\n",
      "Requirement already satisfied: python-dateutil>=2.4 in /databricks/python3/lib/python3.9/site-packages (from faker) (2.8.2)\n",
      "Requirement already satisfied: typing-extensions in /databricks/python3/lib/python3.9/site-packages (from faker) (4.1.1)\n",
      "Requirement already satisfied: six>=1.5 in /databricks/python3/lib/python3.9/site-packages (from python-dateutil>=2.4->faker) (1.16.0)\n",
      "Python interpreter will be restarted.\n"
     ]
    }
   ],
   "source": [
    "pip install faker"
   ]
  },
  {
   "cell_type": "code",
   "execution_count": 0,
   "metadata": {
    "application/vnd.databricks.v1+cell": {
     "cellMetadata": {
      "byteLimit": 2048000,
      "rowLimit": 10000
     },
     "inputWidgets": {},
     "nuid": "6626b8a4-30af-4e76-af9d-0285f119148c",
     "showTitle": false,
     "tableResultSettingsMap": {},
     "title": ""
    }
   },
   "outputs": [],
   "source": [
    "import random\n",
    "import csv\n",
    "from faker import Faker\n",
    "\n",
    "# Initialize Faker\n",
    "fake = Faker()"
   ]
  },
  {
   "cell_type": "code",
   "execution_count": 0,
   "metadata": {
    "application/vnd.databricks.v1+cell": {
     "cellMetadata": {
      "byteLimit": 2048000,
      "rowLimit": 10000
     },
     "inputWidgets": {},
     "nuid": "c0eaf958-b8cf-43d8-b4d5-3608e5573a54",
     "showTitle": false,
     "tableResultSettingsMap": {},
     "title": ""
    }
   },
   "outputs": [],
   "source": [
    "# List of products and their categories\n",
    "products = [\n",
    "    {\"name\": \"Laptop\", \"category\": \"Electronics\", \"price\": 899.99},\n",
    "    {\"name\": \"Smartphone\", \"category\": \"Electronics\", \"price\": 699.99},\n",
    "    {\"name\": \"Headphones\", \"category\": \"Accessories\", \"price\": 49.99},\n",
    "    {\"name\": \"Coffee Maker\", \"category\": \"Home Appliances\", \"price\": 79.99},\n",
    "    {\"name\": \"Sneakers\", \"category\": \"Fashion\", \"price\": 59.99},\n",
    "    {\"name\": \"Backpack\", \"category\": \"Fashion\", \"price\": 39.99},\n",
    "    {\"name\": \"Blender\", \"category\": \"Home Appliances\", \"price\": 99.99},\n",
    "    {\"name\": \"Desk Chair\", \"category\": \"Furniture\", \"price\": 129.99},\n",
    "    {\"name\": \"Water Bottle\", \"category\": \"Accessories\", \"price\": 19.99},\n",
    "    {\"name\": \"Notebook\", \"category\": \"Stationery\", \"price\": 5.99},\n",
    "]\n"
   ]
  },
  {
   "cell_type": "code",
   "execution_count": 0,
   "metadata": {
    "application/vnd.databricks.v1+cell": {
     "cellMetadata": {
      "byteLimit": 2048000,
      "rowLimit": 10000
     },
     "inputWidgets": {},
     "nuid": "18b03245-9b88-4142-8110-5562759b4a1a",
     "showTitle": false,
     "tableResultSettingsMap": {},
     "title": ""
    }
   },
   "outputs": [],
   "source": [
    "# Define a function to generate order data\n",
    "def generate_order_data(num_rows):\n",
    "    data = []\n",
    "    for _ in range(num_rows):\n",
    "        product = random.choice(products)\n",
    "        quantity = random.randint(1, 10)\n",
    "        total = round(product[\"price\"] * quantity, 2)\n",
    "        order = {\n",
    "            \"Order ID\": fake.uuid4(),\n",
    "            \"Customer Name\": fake.name(),\n",
    "            \"Customer Email\": fake.email(),\n",
    "            \"Product Name\": product[\"name\"],\n",
    "            \"Category\": product[\"category\"],\n",
    "            \"Quantity\": quantity,\n",
    "            \"Price\": product[\"price\"],\n",
    "            \"Total\": total,\n",
    "            \"Order Date\": fake.date_this_year(),\n",
    "            \"Shipping Address\": fake.address(),\n",
    "        }\n",
    "        data.append(order)\n",
    "    return data"
   ]
  },
  {
   "cell_type": "code",
   "execution_count": 0,
   "metadata": {
    "application/vnd.databricks.v1+cell": {
     "cellMetadata": {
      "byteLimit": 2048000,
      "rowLimit": 10000
     },
     "inputWidgets": {},
     "nuid": "9694dad8-7f53-4eab-a0e4-a410b64ce10a",
     "showTitle": false,
     "tableResultSettingsMap": {},
     "title": ""
    }
   },
   "outputs": [],
   "source": [
    "# Generate 1000 rows of data\n",
    "num_rows = 1000\n",
    "order_data = generate_order_data(num_rows)"
   ]
  },
  {
   "cell_type": "code",
   "execution_count": 0,
   "metadata": {
    "application/vnd.databricks.v1+cell": {
     "cellMetadata": {
      "byteLimit": 2048000,
      "rowLimit": 10000
     },
     "inputWidgets": {},
     "nuid": "c3201aa8-2fa9-4de3-bf48-9a001f8b35cb",
     "showTitle": false,
     "tableResultSettingsMap": {},
     "title": ""
    }
   },
   "outputs": [
    {
     "name": "stdout",
     "output_type": "stream",
     "text": [
      "Sample dataset with 1000 rows has been saved to 'sample_orders.csv'.\n"
     ]
    }
   ],
   "source": [
    "# Save the data to a CSV file\n",
    "output_file = \"sample_orders.csv\"\n",
    "with open(output_file, mode=\"w\", newline=\"\", encoding=\"utf-8\") as file:\n",
    "    writer = csv.DictWriter(file, fieldnames=order_data[0].keys())\n",
    "    writer.writeheader()\n",
    "    writer.writerows(order_data)\n",
    "\n",
    "print(f\"Sample dataset with {num_rows} rows has been saved to '{output_file}'.\")"
   ]
  },
  {
   "cell_type": "markdown",
   "metadata": {
    "application/vnd.databricks.v1+cell": {
     "cellMetadata": {},
     "inputWidgets": {},
     "nuid": "80f5c8fa-c5ca-47d4-a778-2b1a14f65960",
     "showTitle": false,
     "tableResultSettingsMap": {},
     "title": ""
    }
   },
   "source": [
    "# Head function head()"
   ]
  },
  {
   "cell_type": "code",
   "execution_count": 0,
   "metadata": {
    "application/vnd.databricks.v1+cell": {
     "cellMetadata": {
      "byteLimit": 2048000,
      "rowLimit": 10000
     },
     "inputWidgets": {},
     "nuid": "8ad29cb6-a38a-4c60-8e1b-254675c36df9",
     "showTitle": false,
     "tableResultSettingsMap": {},
     "title": ""
    }
   },
   "outputs": [
    {
     "data": {
      "text/html": [
       "<div>\n",
       "<style scoped>\n",
       "    .dataframe tbody tr th:only-of-type {\n",
       "        vertical-align: middle;\n",
       "    }\n",
       "\n",
       "    .dataframe tbody tr th {\n",
       "        vertical-align: top;\n",
       "    }\n",
       "\n",
       "    .dataframe thead th {\n",
       "        text-align: right;\n",
       "    }\n",
       "</style>\n",
       "<table border=\"1\" class=\"dataframe\">\n",
       "  <thead>\n",
       "    <tr style=\"text-align: right;\">\n",
       "      <th></th>\n",
       "      <th>Order ID</th>\n",
       "      <th>Customer Name</th>\n",
       "      <th>Customer Email</th>\n",
       "      <th>Product Name</th>\n",
       "      <th>Category</th>\n",
       "      <th>Quantity</th>\n",
       "      <th>Price</th>\n",
       "      <th>Total</th>\n",
       "      <th>Order Date</th>\n",
       "      <th>Shipping Address</th>\n",
       "    </tr>\n",
       "  </thead>\n",
       "  <tbody>\n",
       "    <tr>\n",
       "      <th>0</th>\n",
       "      <td>35369275-e6c9-4532-9b08-0f1adbac593c</td>\n",
       "      <td>Peter Hill</td>\n",
       "      <td>robertssarah@example.org</td>\n",
       "      <td>Coffee Maker</td>\n",
       "      <td>Home Appliances</td>\n",
       "      <td>1</td>\n",
       "      <td>79.99</td>\n",
       "      <td>79.99</td>\n",
       "      <td>2025-01-01</td>\n",
       "      <td>26798 Mason Junction\\nDaystad, UT 25772</td>\n",
       "    </tr>\n",
       "    <tr>\n",
       "      <th>1</th>\n",
       "      <td>b1316fda-ceac-4372-934d-5ae01b11cb45</td>\n",
       "      <td>Mark Robinson</td>\n",
       "      <td>michael67@example.com</td>\n",
       "      <td>Headphones</td>\n",
       "      <td>Accessories</td>\n",
       "      <td>7</td>\n",
       "      <td>49.99</td>\n",
       "      <td>349.93</td>\n",
       "      <td>2025-01-04</td>\n",
       "      <td>6660 Christine Neck\\nMelissashire, WI 40341</td>\n",
       "    </tr>\n",
       "    <tr>\n",
       "      <th>2</th>\n",
       "      <td>185b4d92-a535-4189-a2e0-eb4683de2f3e</td>\n",
       "      <td>Kimberly Baldwin</td>\n",
       "      <td>ejackson@example.net</td>\n",
       "      <td>Headphones</td>\n",
       "      <td>Accessories</td>\n",
       "      <td>4</td>\n",
       "      <td>49.99</td>\n",
       "      <td>199.96</td>\n",
       "      <td>2025-01-05</td>\n",
       "      <td>77106 Melissa Ports Suite 063\\nVictoriaview, S...</td>\n",
       "    </tr>\n",
       "    <tr>\n",
       "      <th>3</th>\n",
       "      <td>596cfa33-51d6-4705-8898-9c4501736ba6</td>\n",
       "      <td>Robin Stevens</td>\n",
       "      <td>ljohnson@example.net</td>\n",
       "      <td>Coffee Maker</td>\n",
       "      <td>Home Appliances</td>\n",
       "      <td>8</td>\n",
       "      <td>79.99</td>\n",
       "      <td>639.92</td>\n",
       "      <td>2025-01-03</td>\n",
       "      <td>1593 Julie Manor\\nRichardfort, PA 31022</td>\n",
       "    </tr>\n",
       "    <tr>\n",
       "      <th>4</th>\n",
       "      <td>e96a8303-24af-49b6-91e3-3215ba39f600</td>\n",
       "      <td>Anthony Reeves</td>\n",
       "      <td>rmaddox@example.com</td>\n",
       "      <td>Desk Chair</td>\n",
       "      <td>Furniture</td>\n",
       "      <td>6</td>\n",
       "      <td>129.99</td>\n",
       "      <td>779.94</td>\n",
       "      <td>2025-01-05</td>\n",
       "      <td>840 Harrington Mall Apt. 268\\nEast Gregorystad...</td>\n",
       "    </tr>\n",
       "    <tr>\n",
       "      <th>5</th>\n",
       "      <td>cae2da73-7d88-4091-b7e8-f6b38fb1362e</td>\n",
       "      <td>Billy Snow</td>\n",
       "      <td>davilajesse@example.com</td>\n",
       "      <td>Laptop</td>\n",
       "      <td>Electronics</td>\n",
       "      <td>2</td>\n",
       "      <td>899.99</td>\n",
       "      <td>1799.98</td>\n",
       "      <td>2025-01-03</td>\n",
       "      <td>063 Eric Drives\\nEast Madeline, MD 13497</td>\n",
       "    </tr>\n",
       "    <tr>\n",
       "      <th>6</th>\n",
       "      <td>5d681069-0a1b-47a2-adf0-02adf8ce96eb</td>\n",
       "      <td>Dawn Peterson</td>\n",
       "      <td>hobbsbrandon@example.net</td>\n",
       "      <td>Coffee Maker</td>\n",
       "      <td>Home Appliances</td>\n",
       "      <td>6</td>\n",
       "      <td>79.99</td>\n",
       "      <td>479.94</td>\n",
       "      <td>2025-01-02</td>\n",
       "      <td>Unit 2270 Box 0990\\nDPO AP 10212</td>\n",
       "    </tr>\n",
       "    <tr>\n",
       "      <th>7</th>\n",
       "      <td>f7a0a2e9-3a08-4fbf-9003-18b5dc566e85</td>\n",
       "      <td>Christina Spencer</td>\n",
       "      <td>klee@example.com</td>\n",
       "      <td>Notebook</td>\n",
       "      <td>Stationery</td>\n",
       "      <td>10</td>\n",
       "      <td>5.99</td>\n",
       "      <td>59.90</td>\n",
       "      <td>2025-01-03</td>\n",
       "      <td>126 Christopher Via Suite 208\\nJuanton, OH 94599</td>\n",
       "    </tr>\n",
       "    <tr>\n",
       "      <th>8</th>\n",
       "      <td>286c5ba9-c547-441c-86a9-144e67b2db58</td>\n",
       "      <td>Walter Jones</td>\n",
       "      <td>cwilliams@example.net</td>\n",
       "      <td>Notebook</td>\n",
       "      <td>Stationery</td>\n",
       "      <td>8</td>\n",
       "      <td>5.99</td>\n",
       "      <td>47.92</td>\n",
       "      <td>2025-01-05</td>\n",
       "      <td>630 Tracy Plaza\\nNew Andrewville, NV 98561</td>\n",
       "    </tr>\n",
       "    <tr>\n",
       "      <th>9</th>\n",
       "      <td>8b7554ae-3962-48b8-ad9c-a240d45d4559</td>\n",
       "      <td>David Avery Jr.</td>\n",
       "      <td>wardkatherine@example.net</td>\n",
       "      <td>Smartphone</td>\n",
       "      <td>Electronics</td>\n",
       "      <td>3</td>\n",
       "      <td>699.99</td>\n",
       "      <td>2099.97</td>\n",
       "      <td>2025-01-04</td>\n",
       "      <td>Unit 0590 Box 3801\\nDPO AA 44405</td>\n",
       "    </tr>\n",
       "  </tbody>\n",
       "</table>\n",
       "</div>"
      ]
     },
     "metadata": {
      "application/vnd.databricks.v1+output": {
       "addedWidgets": {},
       "arguments": {},
       "data": "<div>\n<style scoped>\n    .dataframe tbody tr th:only-of-type {\n        vertical-align: middle;\n    }\n\n    .dataframe tbody tr th {\n        vertical-align: top;\n    }\n\n    .dataframe thead th {\n        text-align: right;\n    }\n</style>\n<table border=\"1\" class=\"dataframe\">\n  <thead>\n    <tr style=\"text-align: right;\">\n      <th></th>\n      <th>Order ID</th>\n      <th>Customer Name</th>\n      <th>Customer Email</th>\n      <th>Product Name</th>\n      <th>Category</th>\n      <th>Quantity</th>\n      <th>Price</th>\n      <th>Total</th>\n      <th>Order Date</th>\n      <th>Shipping Address</th>\n    </tr>\n  </thead>\n  <tbody>\n    <tr>\n      <th>0</th>\n      <td>35369275-e6c9-4532-9b08-0f1adbac593c</td>\n      <td>Peter Hill</td>\n      <td>robertssarah@example.org</td>\n      <td>Coffee Maker</td>\n      <td>Home Appliances</td>\n      <td>1</td>\n      <td>79.99</td>\n      <td>79.99</td>\n      <td>2025-01-01</td>\n      <td>26798 Mason Junction\\nDaystad, UT 25772</td>\n    </tr>\n    <tr>\n      <th>1</th>\n      <td>b1316fda-ceac-4372-934d-5ae01b11cb45</td>\n      <td>Mark Robinson</td>\n      <td>michael67@example.com</td>\n      <td>Headphones</td>\n      <td>Accessories</td>\n      <td>7</td>\n      <td>49.99</td>\n      <td>349.93</td>\n      <td>2025-01-04</td>\n      <td>6660 Christine Neck\\nMelissashire, WI 40341</td>\n    </tr>\n    <tr>\n      <th>2</th>\n      <td>185b4d92-a535-4189-a2e0-eb4683de2f3e</td>\n      <td>Kimberly Baldwin</td>\n      <td>ejackson@example.net</td>\n      <td>Headphones</td>\n      <td>Accessories</td>\n      <td>4</td>\n      <td>49.99</td>\n      <td>199.96</td>\n      <td>2025-01-05</td>\n      <td>77106 Melissa Ports Suite 063\\nVictoriaview, S...</td>\n    </tr>\n    <tr>\n      <th>3</th>\n      <td>596cfa33-51d6-4705-8898-9c4501736ba6</td>\n      <td>Robin Stevens</td>\n      <td>ljohnson@example.net</td>\n      <td>Coffee Maker</td>\n      <td>Home Appliances</td>\n      <td>8</td>\n      <td>79.99</td>\n      <td>639.92</td>\n      <td>2025-01-03</td>\n      <td>1593 Julie Manor\\nRichardfort, PA 31022</td>\n    </tr>\n    <tr>\n      <th>4</th>\n      <td>e96a8303-24af-49b6-91e3-3215ba39f600</td>\n      <td>Anthony Reeves</td>\n      <td>rmaddox@example.com</td>\n      <td>Desk Chair</td>\n      <td>Furniture</td>\n      <td>6</td>\n      <td>129.99</td>\n      <td>779.94</td>\n      <td>2025-01-05</td>\n      <td>840 Harrington Mall Apt. 268\\nEast Gregorystad...</td>\n    </tr>\n    <tr>\n      <th>5</th>\n      <td>cae2da73-7d88-4091-b7e8-f6b38fb1362e</td>\n      <td>Billy Snow</td>\n      <td>davilajesse@example.com</td>\n      <td>Laptop</td>\n      <td>Electronics</td>\n      <td>2</td>\n      <td>899.99</td>\n      <td>1799.98</td>\n      <td>2025-01-03</td>\n      <td>063 Eric Drives\\nEast Madeline, MD 13497</td>\n    </tr>\n    <tr>\n      <th>6</th>\n      <td>5d681069-0a1b-47a2-adf0-02adf8ce96eb</td>\n      <td>Dawn Peterson</td>\n      <td>hobbsbrandon@example.net</td>\n      <td>Coffee Maker</td>\n      <td>Home Appliances</td>\n      <td>6</td>\n      <td>79.99</td>\n      <td>479.94</td>\n      <td>2025-01-02</td>\n      <td>Unit 2270 Box 0990\\nDPO AP 10212</td>\n    </tr>\n    <tr>\n      <th>7</th>\n      <td>f7a0a2e9-3a08-4fbf-9003-18b5dc566e85</td>\n      <td>Christina Spencer</td>\n      <td>klee@example.com</td>\n      <td>Notebook</td>\n      <td>Stationery</td>\n      <td>10</td>\n      <td>5.99</td>\n      <td>59.90</td>\n      <td>2025-01-03</td>\n      <td>126 Christopher Via Suite 208\\nJuanton, OH 94599</td>\n    </tr>\n    <tr>\n      <th>8</th>\n      <td>286c5ba9-c547-441c-86a9-144e67b2db58</td>\n      <td>Walter Jones</td>\n      <td>cwilliams@example.net</td>\n      <td>Notebook</td>\n      <td>Stationery</td>\n      <td>8</td>\n      <td>5.99</td>\n      <td>47.92</td>\n      <td>2025-01-05</td>\n      <td>630 Tracy Plaza\\nNew Andrewville, NV 98561</td>\n    </tr>\n    <tr>\n      <th>9</th>\n      <td>8b7554ae-3962-48b8-ad9c-a240d45d4559</td>\n      <td>David Avery Jr.</td>\n      <td>wardkatherine@example.net</td>\n      <td>Smartphone</td>\n      <td>Electronics</td>\n      <td>3</td>\n      <td>699.99</td>\n      <td>2099.97</td>\n      <td>2025-01-04</td>\n      <td>Unit 0590 Box 3801\\nDPO AA 44405</td>\n    </tr>\n  </tbody>\n</table>\n</div>",
       "datasetInfos": [],
       "metadata": {},
       "removedWidgets": [],
       "textData": null,
       "type": "htmlSandbox"
      }
     },
     "output_type": "display_data"
    }
   ],
   "source": [
    "import pandas as pd\n",
    "\n",
    "# Read the sample_orders.csv file into a Pandas DataFrame\n",
    "df = pd.read_csv(\"sample_orders.csv\")\n",
    "\n",
    "# Display the first 10 rows of the dataset\n",
    "df.head(10)"
   ]
  },
  {
   "cell_type": "markdown",
   "metadata": {
    "application/vnd.databricks.v1+cell": {
     "cellMetadata": {},
     "inputWidgets": {},
     "nuid": "051602e1-979f-4c57-a91e-3ffb5c0eaf64",
     "showTitle": false,
     "tableResultSettingsMap": {},
     "title": ""
    }
   },
   "source": [
    "# Tail function tail()"
   ]
  },
  {
   "cell_type": "code",
   "execution_count": 0,
   "metadata": {
    "application/vnd.databricks.v1+cell": {
     "cellMetadata": {
      "byteLimit": 2048000,
      "rowLimit": 10000
     },
     "inputWidgets": {},
     "nuid": "709a8827-766f-494b-af97-b1b94faeccfd",
     "showTitle": false,
     "tableResultSettingsMap": {},
     "title": ""
    }
   },
   "outputs": [
    {
     "data": {
      "text/html": [
       "<div>\n",
       "<style scoped>\n",
       "    .dataframe tbody tr th:only-of-type {\n",
       "        vertical-align: middle;\n",
       "    }\n",
       "\n",
       "    .dataframe tbody tr th {\n",
       "        vertical-align: top;\n",
       "    }\n",
       "\n",
       "    .dataframe thead th {\n",
       "        text-align: right;\n",
       "    }\n",
       "</style>\n",
       "<table border=\"1\" class=\"dataframe\">\n",
       "  <thead>\n",
       "    <tr style=\"text-align: right;\">\n",
       "      <th></th>\n",
       "      <th>Order ID</th>\n",
       "      <th>Customer Name</th>\n",
       "      <th>Customer Email</th>\n",
       "      <th>Product Name</th>\n",
       "      <th>Category</th>\n",
       "      <th>Quantity</th>\n",
       "      <th>Price</th>\n",
       "      <th>Total</th>\n",
       "      <th>Order Date</th>\n",
       "      <th>Shipping Address</th>\n",
       "    </tr>\n",
       "  </thead>\n",
       "  <tbody>\n",
       "    <tr>\n",
       "      <th>990</th>\n",
       "      <td>092de889-e876-430a-b957-3890cd01a514</td>\n",
       "      <td>Gary Griffin</td>\n",
       "      <td>scottjeffery@example.net</td>\n",
       "      <td>Smartphone</td>\n",
       "      <td>Electronics</td>\n",
       "      <td>10</td>\n",
       "      <td>699.99</td>\n",
       "      <td>6999.90</td>\n",
       "      <td>2025-01-01</td>\n",
       "      <td>USNS Braun\\nFPO AP 92784</td>\n",
       "    </tr>\n",
       "    <tr>\n",
       "      <th>991</th>\n",
       "      <td>c033b2f0-9563-4fb8-8268-a66a141d873b</td>\n",
       "      <td>Michael Mason</td>\n",
       "      <td>adampotter@example.org</td>\n",
       "      <td>Laptop</td>\n",
       "      <td>Electronics</td>\n",
       "      <td>9</td>\n",
       "      <td>899.99</td>\n",
       "      <td>8099.91</td>\n",
       "      <td>2025-01-02</td>\n",
       "      <td>PSC 8101, Box 2757\\nAPO AE 04205</td>\n",
       "    </tr>\n",
       "    <tr>\n",
       "      <th>992</th>\n",
       "      <td>1137cd6c-8f6f-4e5d-b0be-272b25e916ca</td>\n",
       "      <td>Sylvia Taylor</td>\n",
       "      <td>davidturner@example.org</td>\n",
       "      <td>Backpack</td>\n",
       "      <td>Fashion</td>\n",
       "      <td>7</td>\n",
       "      <td>39.99</td>\n",
       "      <td>279.93</td>\n",
       "      <td>2025-01-03</td>\n",
       "      <td>102 Jennifer Haven Suite 464\\nNew Rhondaton, N...</td>\n",
       "    </tr>\n",
       "    <tr>\n",
       "      <th>993</th>\n",
       "      <td>0e8a153f-ab8f-4db0-bea4-b1d6967fb595</td>\n",
       "      <td>Alyssa Chambers</td>\n",
       "      <td>davidanderson@example.com</td>\n",
       "      <td>Smartphone</td>\n",
       "      <td>Electronics</td>\n",
       "      <td>6</td>\n",
       "      <td>699.99</td>\n",
       "      <td>4199.94</td>\n",
       "      <td>2025-01-03</td>\n",
       "      <td>USCGC Obrien\\nFPO AA 52104</td>\n",
       "    </tr>\n",
       "    <tr>\n",
       "      <th>994</th>\n",
       "      <td>8644bcf0-b7d7-4ea0-aa6c-b44d64af4fab</td>\n",
       "      <td>Brenda Perez</td>\n",
       "      <td>morrisondiana@example.org</td>\n",
       "      <td>Sneakers</td>\n",
       "      <td>Fashion</td>\n",
       "      <td>4</td>\n",
       "      <td>59.99</td>\n",
       "      <td>239.96</td>\n",
       "      <td>2025-01-03</td>\n",
       "      <td>1997 Grant Centers Apt. 518\\nNelsonport, SD 99126</td>\n",
       "    </tr>\n",
       "    <tr>\n",
       "      <th>995</th>\n",
       "      <td>969b09d4-c85c-4ec4-bedf-fbee7fb8b17b</td>\n",
       "      <td>Kenneth Weaver</td>\n",
       "      <td>cbrooks@example.org</td>\n",
       "      <td>Blender</td>\n",
       "      <td>Home Appliances</td>\n",
       "      <td>3</td>\n",
       "      <td>99.99</td>\n",
       "      <td>299.97</td>\n",
       "      <td>2025-01-03</td>\n",
       "      <td>96780 Long Mountains Suite 291\\nNew Erica, FM ...</td>\n",
       "    </tr>\n",
       "    <tr>\n",
       "      <th>996</th>\n",
       "      <td>fbb82060-b677-4bbf-9152-4a7804d20b41</td>\n",
       "      <td>Stacie Cox</td>\n",
       "      <td>jacobdavis@example.org</td>\n",
       "      <td>Desk Chair</td>\n",
       "      <td>Furniture</td>\n",
       "      <td>3</td>\n",
       "      <td>129.99</td>\n",
       "      <td>389.97</td>\n",
       "      <td>2025-01-01</td>\n",
       "      <td>315 Mike Stravenue\\nLake Stephenport, NY 97869</td>\n",
       "    </tr>\n",
       "    <tr>\n",
       "      <th>997</th>\n",
       "      <td>680471ec-291b-4eec-afdb-825c8ee70ffd</td>\n",
       "      <td>Jacqueline Contreras</td>\n",
       "      <td>josephmorgan@example.org</td>\n",
       "      <td>Notebook</td>\n",
       "      <td>Stationery</td>\n",
       "      <td>1</td>\n",
       "      <td>5.99</td>\n",
       "      <td>5.99</td>\n",
       "      <td>2025-01-02</td>\n",
       "      <td>22823 Adams Rapids Suite 978\\nSmithville, NJ 8...</td>\n",
       "    </tr>\n",
       "    <tr>\n",
       "      <th>998</th>\n",
       "      <td>8b516fe1-06e3-416b-9661-e98198924770</td>\n",
       "      <td>Melissa Taylor</td>\n",
       "      <td>christopherbrown@example.org</td>\n",
       "      <td>Backpack</td>\n",
       "      <td>Fashion</td>\n",
       "      <td>9</td>\n",
       "      <td>39.99</td>\n",
       "      <td>359.91</td>\n",
       "      <td>2025-01-05</td>\n",
       "      <td>63508 John Neck\\nWest Tonya, MT 78658</td>\n",
       "    </tr>\n",
       "    <tr>\n",
       "      <th>999</th>\n",
       "      <td>c220b742-6456-4d98-ad6d-5ac83be1a0f9</td>\n",
       "      <td>Sarah Murray</td>\n",
       "      <td>pam18@example.com</td>\n",
       "      <td>Backpack</td>\n",
       "      <td>Fashion</td>\n",
       "      <td>7</td>\n",
       "      <td>39.99</td>\n",
       "      <td>279.93</td>\n",
       "      <td>2025-01-02</td>\n",
       "      <td>410 Rivera Burg\\nLake Madisonshire, ME 94570</td>\n",
       "    </tr>\n",
       "  </tbody>\n",
       "</table>\n",
       "</div>"
      ]
     },
     "metadata": {
      "application/vnd.databricks.v1+output": {
       "addedWidgets": {},
       "arguments": {},
       "data": "<div>\n<style scoped>\n    .dataframe tbody tr th:only-of-type {\n        vertical-align: middle;\n    }\n\n    .dataframe tbody tr th {\n        vertical-align: top;\n    }\n\n    .dataframe thead th {\n        text-align: right;\n    }\n</style>\n<table border=\"1\" class=\"dataframe\">\n  <thead>\n    <tr style=\"text-align: right;\">\n      <th></th>\n      <th>Order ID</th>\n      <th>Customer Name</th>\n      <th>Customer Email</th>\n      <th>Product Name</th>\n      <th>Category</th>\n      <th>Quantity</th>\n      <th>Price</th>\n      <th>Total</th>\n      <th>Order Date</th>\n      <th>Shipping Address</th>\n    </tr>\n  </thead>\n  <tbody>\n    <tr>\n      <th>990</th>\n      <td>092de889-e876-430a-b957-3890cd01a514</td>\n      <td>Gary Griffin</td>\n      <td>scottjeffery@example.net</td>\n      <td>Smartphone</td>\n      <td>Electronics</td>\n      <td>10</td>\n      <td>699.99</td>\n      <td>6999.90</td>\n      <td>2025-01-01</td>\n      <td>USNS Braun\\nFPO AP 92784</td>\n    </tr>\n    <tr>\n      <th>991</th>\n      <td>c033b2f0-9563-4fb8-8268-a66a141d873b</td>\n      <td>Michael Mason</td>\n      <td>adampotter@example.org</td>\n      <td>Laptop</td>\n      <td>Electronics</td>\n      <td>9</td>\n      <td>899.99</td>\n      <td>8099.91</td>\n      <td>2025-01-02</td>\n      <td>PSC 8101, Box 2757\\nAPO AE 04205</td>\n    </tr>\n    <tr>\n      <th>992</th>\n      <td>1137cd6c-8f6f-4e5d-b0be-272b25e916ca</td>\n      <td>Sylvia Taylor</td>\n      <td>davidturner@example.org</td>\n      <td>Backpack</td>\n      <td>Fashion</td>\n      <td>7</td>\n      <td>39.99</td>\n      <td>279.93</td>\n      <td>2025-01-03</td>\n      <td>102 Jennifer Haven Suite 464\\nNew Rhondaton, N...</td>\n    </tr>\n    <tr>\n      <th>993</th>\n      <td>0e8a153f-ab8f-4db0-bea4-b1d6967fb595</td>\n      <td>Alyssa Chambers</td>\n      <td>davidanderson@example.com</td>\n      <td>Smartphone</td>\n      <td>Electronics</td>\n      <td>6</td>\n      <td>699.99</td>\n      <td>4199.94</td>\n      <td>2025-01-03</td>\n      <td>USCGC Obrien\\nFPO AA 52104</td>\n    </tr>\n    <tr>\n      <th>994</th>\n      <td>8644bcf0-b7d7-4ea0-aa6c-b44d64af4fab</td>\n      <td>Brenda Perez</td>\n      <td>morrisondiana@example.org</td>\n      <td>Sneakers</td>\n      <td>Fashion</td>\n      <td>4</td>\n      <td>59.99</td>\n      <td>239.96</td>\n      <td>2025-01-03</td>\n      <td>1997 Grant Centers Apt. 518\\nNelsonport, SD 99126</td>\n    </tr>\n    <tr>\n      <th>995</th>\n      <td>969b09d4-c85c-4ec4-bedf-fbee7fb8b17b</td>\n      <td>Kenneth Weaver</td>\n      <td>cbrooks@example.org</td>\n      <td>Blender</td>\n      <td>Home Appliances</td>\n      <td>3</td>\n      <td>99.99</td>\n      <td>299.97</td>\n      <td>2025-01-03</td>\n      <td>96780 Long Mountains Suite 291\\nNew Erica, FM ...</td>\n    </tr>\n    <tr>\n      <th>996</th>\n      <td>fbb82060-b677-4bbf-9152-4a7804d20b41</td>\n      <td>Stacie Cox</td>\n      <td>jacobdavis@example.org</td>\n      <td>Desk Chair</td>\n      <td>Furniture</td>\n      <td>3</td>\n      <td>129.99</td>\n      <td>389.97</td>\n      <td>2025-01-01</td>\n      <td>315 Mike Stravenue\\nLake Stephenport, NY 97869</td>\n    </tr>\n    <tr>\n      <th>997</th>\n      <td>680471ec-291b-4eec-afdb-825c8ee70ffd</td>\n      <td>Jacqueline Contreras</td>\n      <td>josephmorgan@example.org</td>\n      <td>Notebook</td>\n      <td>Stationery</td>\n      <td>1</td>\n      <td>5.99</td>\n      <td>5.99</td>\n      <td>2025-01-02</td>\n      <td>22823 Adams Rapids Suite 978\\nSmithville, NJ 8...</td>\n    </tr>\n    <tr>\n      <th>998</th>\n      <td>8b516fe1-06e3-416b-9661-e98198924770</td>\n      <td>Melissa Taylor</td>\n      <td>christopherbrown@example.org</td>\n      <td>Backpack</td>\n      <td>Fashion</td>\n      <td>9</td>\n      <td>39.99</td>\n      <td>359.91</td>\n      <td>2025-01-05</td>\n      <td>63508 John Neck\\nWest Tonya, MT 78658</td>\n    </tr>\n    <tr>\n      <th>999</th>\n      <td>c220b742-6456-4d98-ad6d-5ac83be1a0f9</td>\n      <td>Sarah Murray</td>\n      <td>pam18@example.com</td>\n      <td>Backpack</td>\n      <td>Fashion</td>\n      <td>7</td>\n      <td>39.99</td>\n      <td>279.93</td>\n      <td>2025-01-02</td>\n      <td>410 Rivera Burg\\nLake Madisonshire, ME 94570</td>\n    </tr>\n  </tbody>\n</table>\n</div>",
       "datasetInfos": [],
       "metadata": {},
       "removedWidgets": [],
       "textData": null,
       "type": "htmlSandbox"
      }
     },
     "output_type": "display_data"
    }
   ],
   "source": [
    "import pandas as pd\n",
    "\n",
    "# Read the sample_orders.csv file into a Pandas DataFrame\n",
    "df = pd.read_csv(\"sample_orders.csv\")\n",
    "\n",
    "# Display the last 10 rows of the dataset\n",
    "df.tail(10)"
   ]
  },
  {
   "cell_type": "markdown",
   "metadata": {
    "application/vnd.databricks.v1+cell": {
     "cellMetadata": {},
     "inputWidgets": {},
     "nuid": "3a4c47c7-0f3e-4950-b55f-684e0b902bfd",
     "showTitle": false,
     "tableResultSettingsMap": {},
     "title": ""
    }
   },
   "source": [
    "# Sample function sample()"
   ]
  },
  {
   "cell_type": "code",
   "execution_count": 0,
   "metadata": {
    "application/vnd.databricks.v1+cell": {
     "cellMetadata": {
      "byteLimit": 2048000,
      "rowLimit": 10000
     },
     "inputWidgets": {},
     "nuid": "7ae5315d-306a-4906-8c3e-04c746d133db",
     "showTitle": false,
     "tableResultSettingsMap": {},
     "title": ""
    }
   },
   "outputs": [
    {
     "data": {
      "text/html": [
       "<div>\n",
       "<style scoped>\n",
       "    .dataframe tbody tr th:only-of-type {\n",
       "        vertical-align: middle;\n",
       "    }\n",
       "\n",
       "    .dataframe tbody tr th {\n",
       "        vertical-align: top;\n",
       "    }\n",
       "\n",
       "    .dataframe thead th {\n",
       "        text-align: right;\n",
       "    }\n",
       "</style>\n",
       "<table border=\"1\" class=\"dataframe\">\n",
       "  <thead>\n",
       "    <tr style=\"text-align: right;\">\n",
       "      <th></th>\n",
       "      <th>Order ID</th>\n",
       "      <th>Customer Name</th>\n",
       "      <th>Customer Email</th>\n",
       "      <th>Product Name</th>\n",
       "      <th>Category</th>\n",
       "      <th>Quantity</th>\n",
       "      <th>Price</th>\n",
       "      <th>Total</th>\n",
       "      <th>Order Date</th>\n",
       "      <th>Shipping Address</th>\n",
       "    </tr>\n",
       "  </thead>\n",
       "  <tbody>\n",
       "    <tr>\n",
       "      <th>239</th>\n",
       "      <td>c21502cb-e09c-4350-8f3b-ac89b4d55f9d</td>\n",
       "      <td>Heather Gonzales</td>\n",
       "      <td>imadden@example.net</td>\n",
       "      <td>Smartphone</td>\n",
       "      <td>Electronics</td>\n",
       "      <td>4</td>\n",
       "      <td>699.99</td>\n",
       "      <td>2799.96</td>\n",
       "      <td>2025-01-03</td>\n",
       "      <td>8471 Gary Fort Apt. 078\\nFisherfurt, AK 44397</td>\n",
       "    </tr>\n",
       "    <tr>\n",
       "      <th>37</th>\n",
       "      <td>0585e055-67c8-4640-a605-533e1d72caf4</td>\n",
       "      <td>James Richardson PhD</td>\n",
       "      <td>zamorawendy@example.net</td>\n",
       "      <td>Coffee Maker</td>\n",
       "      <td>Home Appliances</td>\n",
       "      <td>4</td>\n",
       "      <td>79.99</td>\n",
       "      <td>319.96</td>\n",
       "      <td>2025-01-04</td>\n",
       "      <td>92982 Stacy Mountain Apt. 706\\nDawsonhaven, CA...</td>\n",
       "    </tr>\n",
       "    <tr>\n",
       "      <th>165</th>\n",
       "      <td>b34f71c6-ef10-43fa-ab11-bcf60eeb63d5</td>\n",
       "      <td>Steven Butler</td>\n",
       "      <td>patrickrivera@example.org</td>\n",
       "      <td>Sneakers</td>\n",
       "      <td>Fashion</td>\n",
       "      <td>6</td>\n",
       "      <td>59.99</td>\n",
       "      <td>359.94</td>\n",
       "      <td>2025-01-02</td>\n",
       "      <td>8553 David Route Apt. 226\\nSouth Luke, ID 28920</td>\n",
       "    </tr>\n",
       "    <tr>\n",
       "      <th>635</th>\n",
       "      <td>e5409f0c-eff1-42a5-a3af-d5dd0c44533b</td>\n",
       "      <td>Misty Madden</td>\n",
       "      <td>staceysmith@example.com</td>\n",
       "      <td>Sneakers</td>\n",
       "      <td>Fashion</td>\n",
       "      <td>7</td>\n",
       "      <td>59.99</td>\n",
       "      <td>419.93</td>\n",
       "      <td>2025-01-04</td>\n",
       "      <td>807 Julia Mission\\nNew Scottview, NY 99016</td>\n",
       "    </tr>\n",
       "    <tr>\n",
       "      <th>745</th>\n",
       "      <td>28b31d28-e3ab-4611-a482-511723c47553</td>\n",
       "      <td>Kayla Casey</td>\n",
       "      <td>hunter30@example.net</td>\n",
       "      <td>Backpack</td>\n",
       "      <td>Fashion</td>\n",
       "      <td>3</td>\n",
       "      <td>39.99</td>\n",
       "      <td>119.97</td>\n",
       "      <td>2025-01-05</td>\n",
       "      <td>91354 James Burg\\nNew Angela, FM 07742</td>\n",
       "    </tr>\n",
       "    <tr>\n",
       "      <th>658</th>\n",
       "      <td>fbd9e0fd-41ee-41d8-9aac-92ae4a6e45dc</td>\n",
       "      <td>James Craig</td>\n",
       "      <td>juan15@example.net</td>\n",
       "      <td>Sneakers</td>\n",
       "      <td>Fashion</td>\n",
       "      <td>3</td>\n",
       "      <td>59.99</td>\n",
       "      <td>179.97</td>\n",
       "      <td>2025-01-04</td>\n",
       "      <td>639 George Mission\\nPort Michaelstad, MP 79799</td>\n",
       "    </tr>\n",
       "    <tr>\n",
       "      <th>22</th>\n",
       "      <td>b111eaae-e29d-4e2e-b2d3-ffa56eb553ff</td>\n",
       "      <td>Diana Moore</td>\n",
       "      <td>berryamber@example.org</td>\n",
       "      <td>Laptop</td>\n",
       "      <td>Electronics</td>\n",
       "      <td>2</td>\n",
       "      <td>899.99</td>\n",
       "      <td>1799.98</td>\n",
       "      <td>2025-01-01</td>\n",
       "      <td>8970 Mark Squares Apt. 130\\nSarahside, VT 24726</td>\n",
       "    </tr>\n",
       "    <tr>\n",
       "      <th>494</th>\n",
       "      <td>b46792c4-13c7-4aed-9c5d-31d503c89d27</td>\n",
       "      <td>Susan Ramirez</td>\n",
       "      <td>kellyashley@example.com</td>\n",
       "      <td>Coffee Maker</td>\n",
       "      <td>Home Appliances</td>\n",
       "      <td>4</td>\n",
       "      <td>79.99</td>\n",
       "      <td>319.96</td>\n",
       "      <td>2025-01-03</td>\n",
       "      <td>285 Mosley Fords\\nEast Derek, WI 47917</td>\n",
       "    </tr>\n",
       "    <tr>\n",
       "      <th>5</th>\n",
       "      <td>cae2da73-7d88-4091-b7e8-f6b38fb1362e</td>\n",
       "      <td>Billy Snow</td>\n",
       "      <td>davilajesse@example.com</td>\n",
       "      <td>Laptop</td>\n",
       "      <td>Electronics</td>\n",
       "      <td>2</td>\n",
       "      <td>899.99</td>\n",
       "      <td>1799.98</td>\n",
       "      <td>2025-01-03</td>\n",
       "      <td>063 Eric Drives\\nEast Madeline, MD 13497</td>\n",
       "    </tr>\n",
       "    <tr>\n",
       "      <th>465</th>\n",
       "      <td>81f35ca3-a33b-4c5b-940c-1490593c5cab</td>\n",
       "      <td>Olivia Gonzalez</td>\n",
       "      <td>donaldrowe@example.org</td>\n",
       "      <td>Smartphone</td>\n",
       "      <td>Electronics</td>\n",
       "      <td>3</td>\n",
       "      <td>699.99</td>\n",
       "      <td>2099.97</td>\n",
       "      <td>2025-01-04</td>\n",
       "      <td>628 Collins Forge\\nWellsborough, HI 68832</td>\n",
       "    </tr>\n",
       "  </tbody>\n",
       "</table>\n",
       "</div>"
      ]
     },
     "metadata": {
      "application/vnd.databricks.v1+output": {
       "addedWidgets": {},
       "arguments": {},
       "data": "<div>\n<style scoped>\n    .dataframe tbody tr th:only-of-type {\n        vertical-align: middle;\n    }\n\n    .dataframe tbody tr th {\n        vertical-align: top;\n    }\n\n    .dataframe thead th {\n        text-align: right;\n    }\n</style>\n<table border=\"1\" class=\"dataframe\">\n  <thead>\n    <tr style=\"text-align: right;\">\n      <th></th>\n      <th>Order ID</th>\n      <th>Customer Name</th>\n      <th>Customer Email</th>\n      <th>Product Name</th>\n      <th>Category</th>\n      <th>Quantity</th>\n      <th>Price</th>\n      <th>Total</th>\n      <th>Order Date</th>\n      <th>Shipping Address</th>\n    </tr>\n  </thead>\n  <tbody>\n    <tr>\n      <th>239</th>\n      <td>c21502cb-e09c-4350-8f3b-ac89b4d55f9d</td>\n      <td>Heather Gonzales</td>\n      <td>imadden@example.net</td>\n      <td>Smartphone</td>\n      <td>Electronics</td>\n      <td>4</td>\n      <td>699.99</td>\n      <td>2799.96</td>\n      <td>2025-01-03</td>\n      <td>8471 Gary Fort Apt. 078\\nFisherfurt, AK 44397</td>\n    </tr>\n    <tr>\n      <th>37</th>\n      <td>0585e055-67c8-4640-a605-533e1d72caf4</td>\n      <td>James Richardson PhD</td>\n      <td>zamorawendy@example.net</td>\n      <td>Coffee Maker</td>\n      <td>Home Appliances</td>\n      <td>4</td>\n      <td>79.99</td>\n      <td>319.96</td>\n      <td>2025-01-04</td>\n      <td>92982 Stacy Mountain Apt. 706\\nDawsonhaven, CA...</td>\n    </tr>\n    <tr>\n      <th>165</th>\n      <td>b34f71c6-ef10-43fa-ab11-bcf60eeb63d5</td>\n      <td>Steven Butler</td>\n      <td>patrickrivera@example.org</td>\n      <td>Sneakers</td>\n      <td>Fashion</td>\n      <td>6</td>\n      <td>59.99</td>\n      <td>359.94</td>\n      <td>2025-01-02</td>\n      <td>8553 David Route Apt. 226\\nSouth Luke, ID 28920</td>\n    </tr>\n    <tr>\n      <th>635</th>\n      <td>e5409f0c-eff1-42a5-a3af-d5dd0c44533b</td>\n      <td>Misty Madden</td>\n      <td>staceysmith@example.com</td>\n      <td>Sneakers</td>\n      <td>Fashion</td>\n      <td>7</td>\n      <td>59.99</td>\n      <td>419.93</td>\n      <td>2025-01-04</td>\n      <td>807 Julia Mission\\nNew Scottview, NY 99016</td>\n    </tr>\n    <tr>\n      <th>745</th>\n      <td>28b31d28-e3ab-4611-a482-511723c47553</td>\n      <td>Kayla Casey</td>\n      <td>hunter30@example.net</td>\n      <td>Backpack</td>\n      <td>Fashion</td>\n      <td>3</td>\n      <td>39.99</td>\n      <td>119.97</td>\n      <td>2025-01-05</td>\n      <td>91354 James Burg\\nNew Angela, FM 07742</td>\n    </tr>\n    <tr>\n      <th>658</th>\n      <td>fbd9e0fd-41ee-41d8-9aac-92ae4a6e45dc</td>\n      <td>James Craig</td>\n      <td>juan15@example.net</td>\n      <td>Sneakers</td>\n      <td>Fashion</td>\n      <td>3</td>\n      <td>59.99</td>\n      <td>179.97</td>\n      <td>2025-01-04</td>\n      <td>639 George Mission\\nPort Michaelstad, MP 79799</td>\n    </tr>\n    <tr>\n      <th>22</th>\n      <td>b111eaae-e29d-4e2e-b2d3-ffa56eb553ff</td>\n      <td>Diana Moore</td>\n      <td>berryamber@example.org</td>\n      <td>Laptop</td>\n      <td>Electronics</td>\n      <td>2</td>\n      <td>899.99</td>\n      <td>1799.98</td>\n      <td>2025-01-01</td>\n      <td>8970 Mark Squares Apt. 130\\nSarahside, VT 24726</td>\n    </tr>\n    <tr>\n      <th>494</th>\n      <td>b46792c4-13c7-4aed-9c5d-31d503c89d27</td>\n      <td>Susan Ramirez</td>\n      <td>kellyashley@example.com</td>\n      <td>Coffee Maker</td>\n      <td>Home Appliances</td>\n      <td>4</td>\n      <td>79.99</td>\n      <td>319.96</td>\n      <td>2025-01-03</td>\n      <td>285 Mosley Fords\\nEast Derek, WI 47917</td>\n    </tr>\n    <tr>\n      <th>5</th>\n      <td>cae2da73-7d88-4091-b7e8-f6b38fb1362e</td>\n      <td>Billy Snow</td>\n      <td>davilajesse@example.com</td>\n      <td>Laptop</td>\n      <td>Electronics</td>\n      <td>2</td>\n      <td>899.99</td>\n      <td>1799.98</td>\n      <td>2025-01-03</td>\n      <td>063 Eric Drives\\nEast Madeline, MD 13497</td>\n    </tr>\n    <tr>\n      <th>465</th>\n      <td>81f35ca3-a33b-4c5b-940c-1490593c5cab</td>\n      <td>Olivia Gonzalez</td>\n      <td>donaldrowe@example.org</td>\n      <td>Smartphone</td>\n      <td>Electronics</td>\n      <td>3</td>\n      <td>699.99</td>\n      <td>2099.97</td>\n      <td>2025-01-04</td>\n      <td>628 Collins Forge\\nWellsborough, HI 68832</td>\n    </tr>\n  </tbody>\n</table>\n</div>",
       "datasetInfos": [],
       "metadata": {},
       "removedWidgets": [],
       "textData": null,
       "type": "htmlSandbox"
      }
     },
     "output_type": "display_data"
    }
   ],
   "source": [
    "import pandas as pd\n",
    "\n",
    "# Read the sample_orders.csv file into a Pandas DataFrame\n",
    "df = pd.read_csv(\"sample_orders.csv\")\n",
    "\n",
    "# Read and display the random 10 rows from the dataset\n",
    "df.sample(10)"
   ]
  },
  {
   "cell_type": "markdown",
   "metadata": {
    "application/vnd.databricks.v1+cell": {
     "cellMetadata": {},
     "inputWidgets": {},
     "nuid": "e69a7fb9-63c4-434e-8f73-00ff14314fc5",
     "showTitle": false,
     "tableResultSettingsMap": {},
     "title": ""
    }
   },
   "source": [
    "# info function info()"
   ]
  },
  {
   "cell_type": "code",
   "execution_count": 0,
   "metadata": {
    "application/vnd.databricks.v1+cell": {
     "cellMetadata": {
      "byteLimit": 2048000,
      "rowLimit": 10000
     },
     "inputWidgets": {},
     "nuid": "b5cd18f7-84ec-4292-ae33-2df1da400962",
     "showTitle": false,
     "tableResultSettingsMap": {},
     "title": ""
    }
   },
   "outputs": [
    {
     "name": "stdout",
     "output_type": "stream",
     "text": [
      "<class 'pandas.core.frame.DataFrame'>\n",
      "RangeIndex: 1000 entries, 0 to 999\n",
      "Data columns (total 10 columns):\n",
      " #   Column            Non-Null Count  Dtype  \n",
      "---  ------            --------------  -----  \n",
      " 0   Order ID          1000 non-null   object \n",
      " 1   Customer Name     1000 non-null   object \n",
      " 2   Customer Email    1000 non-null   object \n",
      " 3   Product Name      1000 non-null   object \n",
      " 4   Category          1000 non-null   object \n",
      " 5   Quantity          1000 non-null   int64  \n",
      " 6   Price             1000 non-null   float64\n",
      " 7   Total             1000 non-null   float64\n",
      " 8   Order Date        1000 non-null   object \n",
      " 9   Shipping Address  1000 non-null   object \n",
      "dtypes: float64(2), int64(1), object(7)\n",
      "memory usage: 78.2+ KB\n"
     ]
    }
   ],
   "source": [
    "import pandas as pd\n",
    "\n",
    "# Read the sample_orders.csv file into a Pandas DataFrame\n",
    "df = pd.read_csv(\"sample_orders.csv\")\n",
    "\n",
    "# Display a summary of the dataset\n",
    "df.info()"
   ]
  },
  {
   "cell_type": "markdown",
   "metadata": {
    "application/vnd.databricks.v1+cell": {
     "cellMetadata": {},
     "inputWidgets": {},
     "nuid": "8dfcb929-7b23-40cd-a654-eb7ec3255176",
     "showTitle": false,
     "tableResultSettingsMap": {},
     "title": ""
    }
   },
   "source": [
    "# describe function describe()"
   ]
  },
  {
   "cell_type": "code",
   "execution_count": 0,
   "metadata": {
    "application/vnd.databricks.v1+cell": {
     "cellMetadata": {
      "byteLimit": 2048000,
      "rowLimit": 10000
     },
     "inputWidgets": {},
     "nuid": "10e149f8-2660-436c-942c-0a36d426f3b9",
     "showTitle": false,
     "tableResultSettingsMap": {},
     "title": ""
    }
   },
   "outputs": [
    {
     "name": "stdout",
     "output_type": "stream",
     "text": [
      "          Quantity        Price        Total\n",
      "count  1000.000000  1000.000000  1000.000000\n",
      "mean      5.444000   218.222000  1176.341560\n",
      "std       2.830703   308.964213  1987.579578\n",
      "min       1.000000     5.990000     5.990000\n",
      "25%       3.000000    39.990000   129.990000\n",
      "50%       5.000000    79.990000   359.910000\n",
      "75%       8.000000   129.990000   799.920000\n",
      "max      10.000000   899.990000  8999.900000\n"
     ]
    }
   ],
   "source": [
    "import pandas as pd\n",
    "\n",
    "# Read the sample_orders.csv file into a Pandas DataFrame\n",
    "df = pd.read_csv(\"sample_orders.csv\")\n",
    "\n",
    "# Display the basic statistical information about the dataset\n",
    "print(df.describe())"
   ]
  },
  {
   "cell_type": "markdown",
   "metadata": {
    "application/vnd.databricks.v1+cell": {
     "cellMetadata": {},
     "inputWidgets": {},
     "nuid": "3b23c8ec-34eb-4db1-bb08-2823b41895a7",
     "showTitle": false,
     "tableResultSettingsMap": {},
     "title": ""
    }
   },
   "source": [
    "# value_counts()"
   ]
  },
  {
   "cell_type": "code",
   "execution_count": 0,
   "metadata": {
    "application/vnd.databricks.v1+cell": {
     "cellMetadata": {
      "byteLimit": 2048000,
      "rowLimit": 10000
     },
     "inputWidgets": {},
     "nuid": "8c255b7f-030f-43da-928b-6e9f6a01a2c4",
     "showTitle": false,
     "tableResultSettingsMap": {},
     "title": ""
    }
   },
   "outputs": [
    {
     "name": "stdout",
     "output_type": "stream",
     "text": [
      "Out[14]: Electronics        213\n",
      "Home Appliances    211\n",
      "Accessories        186\n",
      "Fashion            184\n",
      "Stationery         112\n",
      "Furniture           94\n",
      "Name: Category, dtype: int64"
     ]
    }
   ],
   "source": [
    "import pandas as pd\n",
    "\n",
    "# Read the sample_orders.csv file into a Pandas DataFrame\n",
    "df = pd.read_csv(\"sample_orders.csv\")\n",
    "\n",
    "# Display the count of all unique values in a column,such as \"Category\"\n",
    "df[\"Category\"].value_counts()"
   ]
  },
  {
   "cell_type": "markdown",
   "metadata": {
    "application/vnd.databricks.v1+cell": {
     "cellMetadata": {},
     "inputWidgets": {},
     "nuid": "20b627ec-9be6-4bca-8775-0e8b2bae7732",
     "showTitle": false,
     "tableResultSettingsMap": {},
     "title": ""
    }
   },
   "source": [
    "# shape attribute"
   ]
  },
  {
   "cell_type": "code",
   "execution_count": 0,
   "metadata": {
    "application/vnd.databricks.v1+cell": {
     "cellMetadata": {
      "byteLimit": 2048000,
      "rowLimit": 10000
     },
     "inputWidgets": {},
     "nuid": "58dca39b-6f1b-45bb-a2f3-e2f83db98df1",
     "showTitle": false,
     "tableResultSettingsMap": {},
     "title": ""
    }
   },
   "outputs": [
    {
     "name": "stdout",
     "output_type": "stream",
     "text": [
      "(1000, 10)\n"
     ]
    }
   ],
   "source": [
    "import pandas as pd\n",
    "\n",
    "# Read the sample_orders.csv file into a Pandas DataFrame\n",
    "df = pd.read_csv(\"sample_orders.csv\")\n",
    "\n",
    "# Display the number of rows and columns in the dataset\n",
    "print(df.shape)"
   ]
  },
  {
   "cell_type": "markdown",
   "metadata": {
    "application/vnd.databricks.v1+cell": {
     "cellMetadata": {},
     "inputWidgets": {},
     "nuid": "c8732b39-b97d-487d-936e-04b972613955",
     "showTitle": false,
     "tableResultSettingsMap": {},
     "title": ""
    }
   },
   "source": [
    "# dataframe dtypes attribute"
   ]
  },
  {
   "cell_type": "code",
   "execution_count": 0,
   "metadata": {
    "application/vnd.databricks.v1+cell": {
     "cellMetadata": {
      "byteLimit": 2048000,
      "rowLimit": 10000
     },
     "inputWidgets": {},
     "nuid": "8f67a110-db4f-449e-813f-a63a1df64820",
     "showTitle": false,
     "tableResultSettingsMap": {},
     "title": ""
    }
   },
   "outputs": [
    {
     "name": "stdout",
     "output_type": "stream",
     "text": [
      "Order ID             object\n",
      "Customer Name        object\n",
      "Customer Email       object\n",
      "Product Name         object\n",
      "Category             object\n",
      "Quantity              int64\n",
      "Price               float64\n",
      "Total               float64\n",
      "Order Date           object\n",
      "Shipping Address     object\n",
      "dtype: object\n"
     ]
    }
   ],
   "source": [
    "import pandas as pd\n",
    "\n",
    "# Read the sample_orders.csv file into a Pandas DataFrame\n",
    "df = pd.read_csv(\"sample_orders.csv\")\n",
    "\n",
    "# Display the data types of all columns\n",
    "print(df.dtypes)"
   ]
  },
  {
   "cell_type": "markdown",
   "metadata": {
    "application/vnd.databricks.v1+cell": {
     "cellMetadata": {},
     "inputWidgets": {},
     "nuid": "8cd7b94a-dfb1-4b4a-88b7-f135d1067371",
     "showTitle": false,
     "tableResultSettingsMap": {},
     "title": ""
    }
   },
   "source": [
    "# unique funtion unique()\n",
    "unique values in a column"
   ]
  },
  {
   "cell_type": "code",
   "execution_count": 0,
   "metadata": {
    "application/vnd.databricks.v1+cell": {
     "cellMetadata": {
      "byteLimit": 2048000,
      "rowLimit": 10000
     },
     "inputWidgets": {},
     "nuid": "b288323b-bfc7-43f0-a13f-69f1c562528c",
     "showTitle": false,
     "tableResultSettingsMap": {},
     "title": ""
    }
   },
   "outputs": [
    {
     "name": "stdout",
     "output_type": "stream",
     "text": [
      "['Home Appliances' 'Accessories' 'Furniture' 'Electronics' 'Stationery'\n",
      " 'Fashion']\n"
     ]
    }
   ],
   "source": [
    "import pandas as pd\n",
    "\n",
    "# Read the sample_orders.csv file into a Pandas DataFrame\n",
    "df = pd.read_csv(\"sample_orders.csv\")\n",
    "\n",
    "# Display all unique values in a column.\n",
    "print(df[\"Category\"].unique())"
   ]
  },
  {
   "cell_type": "markdown",
   "metadata": {
    "application/vnd.databricks.v1+cell": {
     "cellMetadata": {},
     "inputWidgets": {},
     "nuid": "3c86da37-2e5c-4822-bab7-4d7b4881f711",
     "showTitle": false,
     "tableResultSettingsMap": {},
     "title": ""
    }
   },
   "source": [
    "# nunique()\n",
    "number of unique values in a dataframe"
   ]
  },
  {
   "cell_type": "code",
   "execution_count": 0,
   "metadata": {
    "application/vnd.databricks.v1+cell": {
     "cellMetadata": {
      "byteLimit": 2048000,
      "rowLimit": 10000
     },
     "inputWidgets": {},
     "nuid": "d148455c-f75c-4e96-8f95-05b9630c28ed",
     "showTitle": false,
     "tableResultSettingsMap": {},
     "title": ""
    }
   },
   "outputs": [
    {
     "name": "stdout",
     "output_type": "stream",
     "text": [
      "Out[18]: Order ID            1000\n",
      "Shipping Address    1000\n",
      "Customer Email       999\n",
      "Customer Name        996\n",
      "Total                100\n",
      "Product Name          10\n",
      "Quantity              10\n",
      "Price                 10\n",
      "Category               6\n",
      "Order Date             5\n",
      "dtype: int64"
     ]
    }
   ],
   "source": [
    "import pandas as pd\n",
    "\n",
    "# Read the sample_orders.csv file into a Pandas DataFrame\n",
    "df = pd.read_csv(\"sample_orders.csv\")\n",
    "\n",
    "# Display the count of unique values in the dataset, sorted in descending order\n",
    "df.nunique().sort_values(ascending=False)"
   ]
  },
  {
   "cell_type": "markdown",
   "metadata": {
    "application/vnd.databricks.v1+cell": {
     "cellMetadata": {},
     "inputWidgets": {},
     "nuid": "bfc0f555-2d60-468a-bb99-c73c5c77ac8e",
     "showTitle": false,
     "tableResultSettingsMap": {},
     "title": ""
    }
   },
   "source": [
    "# Column names manipulation"
   ]
  },
  {
   "cell_type": "code",
   "execution_count": 0,
   "metadata": {
    "application/vnd.databricks.v1+cell": {
     "cellMetadata": {
      "byteLimit": 2048000,
      "rowLimit": 10000
     },
     "inputWidgets": {},
     "nuid": "97c58299-3589-4208-aa33-17bd515a075c",
     "showTitle": false,
     "tableResultSettingsMap": {},
     "title": ""
    }
   },
   "outputs": [],
   "source": [
    "df.columns = [x.lower() for x in df.columns]"
   ]
  },
  {
   "cell_type": "code",
   "execution_count": 0,
   "metadata": {
    "application/vnd.databricks.v1+cell": {
     "cellMetadata": {
      "byteLimit": 2048000,
      "rowLimit": 10000
     },
     "inputWidgets": {},
     "nuid": "72b87766-8bd2-4ecf-8242-d8cc20fcdbb4",
     "showTitle": false,
     "tableResultSettingsMap": {},
     "title": ""
    }
   },
   "outputs": [
    {
     "data": {
      "text/html": [
       "<div>\n",
       "<style scoped>\n",
       "    .dataframe tbody tr th:only-of-type {\n",
       "        vertical-align: middle;\n",
       "    }\n",
       "\n",
       "    .dataframe tbody tr th {\n",
       "        vertical-align: top;\n",
       "    }\n",
       "\n",
       "    .dataframe thead th {\n",
       "        text-align: right;\n",
       "    }\n",
       "</style>\n",
       "<table border=\"1\" class=\"dataframe\">\n",
       "  <thead>\n",
       "    <tr style=\"text-align: right;\">\n",
       "      <th></th>\n",
       "      <th>order id</th>\n",
       "      <th>customer name</th>\n",
       "      <th>customer email</th>\n",
       "      <th>product name</th>\n",
       "      <th>category</th>\n",
       "      <th>quantity</th>\n",
       "      <th>price</th>\n",
       "      <th>total</th>\n",
       "      <th>order date</th>\n",
       "      <th>shipping address</th>\n",
       "    </tr>\n",
       "  </thead>\n",
       "  <tbody>\n",
       "    <tr>\n",
       "      <th>0</th>\n",
       "      <td>35369275-e6c9-4532-9b08-0f1adbac593c</td>\n",
       "      <td>Peter Hill</td>\n",
       "      <td>robertssarah@example.org</td>\n",
       "      <td>Coffee Maker</td>\n",
       "      <td>Home Appliances</td>\n",
       "      <td>1</td>\n",
       "      <td>79.99</td>\n",
       "      <td>79.99</td>\n",
       "      <td>2025-01-01</td>\n",
       "      <td>26798 Mason Junction\\nDaystad, UT 25772</td>\n",
       "    </tr>\n",
       "    <tr>\n",
       "      <th>1</th>\n",
       "      <td>b1316fda-ceac-4372-934d-5ae01b11cb45</td>\n",
       "      <td>Mark Robinson</td>\n",
       "      <td>michael67@example.com</td>\n",
       "      <td>Headphones</td>\n",
       "      <td>Accessories</td>\n",
       "      <td>7</td>\n",
       "      <td>49.99</td>\n",
       "      <td>349.93</td>\n",
       "      <td>2025-01-04</td>\n",
       "      <td>6660 Christine Neck\\nMelissashire, WI 40341</td>\n",
       "    </tr>\n",
       "  </tbody>\n",
       "</table>\n",
       "</div>"
      ]
     },
     "metadata": {
      "application/vnd.databricks.v1+output": {
       "addedWidgets": {},
       "arguments": {},
       "data": "<div>\n<style scoped>\n    .dataframe tbody tr th:only-of-type {\n        vertical-align: middle;\n    }\n\n    .dataframe tbody tr th {\n        vertical-align: top;\n    }\n\n    .dataframe thead th {\n        text-align: right;\n    }\n</style>\n<table border=\"1\" class=\"dataframe\">\n  <thead>\n    <tr style=\"text-align: right;\">\n      <th></th>\n      <th>order id</th>\n      <th>customer name</th>\n      <th>customer email</th>\n      <th>product name</th>\n      <th>category</th>\n      <th>quantity</th>\n      <th>price</th>\n      <th>total</th>\n      <th>order date</th>\n      <th>shipping address</th>\n    </tr>\n  </thead>\n  <tbody>\n    <tr>\n      <th>0</th>\n      <td>35369275-e6c9-4532-9b08-0f1adbac593c</td>\n      <td>Peter Hill</td>\n      <td>robertssarah@example.org</td>\n      <td>Coffee Maker</td>\n      <td>Home Appliances</td>\n      <td>1</td>\n      <td>79.99</td>\n      <td>79.99</td>\n      <td>2025-01-01</td>\n      <td>26798 Mason Junction\\nDaystad, UT 25772</td>\n    </tr>\n    <tr>\n      <th>1</th>\n      <td>b1316fda-ceac-4372-934d-5ae01b11cb45</td>\n      <td>Mark Robinson</td>\n      <td>michael67@example.com</td>\n      <td>Headphones</td>\n      <td>Accessories</td>\n      <td>7</td>\n      <td>49.99</td>\n      <td>349.93</td>\n      <td>2025-01-04</td>\n      <td>6660 Christine Neck\\nMelissashire, WI 40341</td>\n    </tr>\n  </tbody>\n</table>\n</div>",
       "datasetInfos": [],
       "metadata": {},
       "removedWidgets": [],
       "textData": null,
       "type": "htmlSandbox"
      }
     },
     "output_type": "display_data"
    }
   ],
   "source": [
    "df.head(2)"
   ]
  },
  {
   "cell_type": "code",
   "execution_count": 0,
   "metadata": {
    "application/vnd.databricks.v1+cell": {
     "cellMetadata": {
      "byteLimit": 2048000,
      "rowLimit": 10000
     },
     "inputWidgets": {},
     "nuid": "3f11b27b-c565-42eb-8297-6fd1374b9800",
     "showTitle": false,
     "tableResultSettingsMap": {},
     "title": ""
    }
   },
   "outputs": [
    {
     "data": {
      "text/html": [
       "<div>\n",
       "<style scoped>\n",
       "    .dataframe tbody tr th:only-of-type {\n",
       "        vertical-align: middle;\n",
       "    }\n",
       "\n",
       "    .dataframe tbody tr th {\n",
       "        vertical-align: top;\n",
       "    }\n",
       "\n",
       "    .dataframe thead th {\n",
       "        text-align: right;\n",
       "    }\n",
       "</style>\n",
       "<table border=\"1\" class=\"dataframe\">\n",
       "  <thead>\n",
       "    <tr style=\"text-align: right;\">\n",
       "      <th></th>\n",
       "      <th>order_id</th>\n",
       "      <th>customer_name</th>\n",
       "      <th>customer_email</th>\n",
       "      <th>product_name</th>\n",
       "      <th>category</th>\n",
       "      <th>quantity</th>\n",
       "      <th>price</th>\n",
       "      <th>total</th>\n",
       "      <th>order_date</th>\n",
       "      <th>shipping_address</th>\n",
       "    </tr>\n",
       "  </thead>\n",
       "  <tbody>\n",
       "    <tr>\n",
       "      <th>0</th>\n",
       "      <td>35369275-e6c9-4532-9b08-0f1adbac593c</td>\n",
       "      <td>Peter Hill</td>\n",
       "      <td>robertssarah@example.org</td>\n",
       "      <td>Coffee Maker</td>\n",
       "      <td>Home Appliances</td>\n",
       "      <td>1</td>\n",
       "      <td>79.99</td>\n",
       "      <td>79.99</td>\n",
       "      <td>2025-01-01</td>\n",
       "      <td>26798 Mason Junction\\nDaystad, UT 25772</td>\n",
       "    </tr>\n",
       "    <tr>\n",
       "      <th>1</th>\n",
       "      <td>b1316fda-ceac-4372-934d-5ae01b11cb45</td>\n",
       "      <td>Mark Robinson</td>\n",
       "      <td>michael67@example.com</td>\n",
       "      <td>Headphones</td>\n",
       "      <td>Accessories</td>\n",
       "      <td>7</td>\n",
       "      <td>49.99</td>\n",
       "      <td>349.93</td>\n",
       "      <td>2025-01-04</td>\n",
       "      <td>6660 Christine Neck\\nMelissashire, WI 40341</td>\n",
       "    </tr>\n",
       "  </tbody>\n",
       "</table>\n",
       "</div>"
      ]
     },
     "metadata": {
      "application/vnd.databricks.v1+output": {
       "addedWidgets": {},
       "arguments": {},
       "data": "<div>\n<style scoped>\n    .dataframe tbody tr th:only-of-type {\n        vertical-align: middle;\n    }\n\n    .dataframe tbody tr th {\n        vertical-align: top;\n    }\n\n    .dataframe thead th {\n        text-align: right;\n    }\n</style>\n<table border=\"1\" class=\"dataframe\">\n  <thead>\n    <tr style=\"text-align: right;\">\n      <th></th>\n      <th>order_id</th>\n      <th>customer_name</th>\n      <th>customer_email</th>\n      <th>product_name</th>\n      <th>category</th>\n      <th>quantity</th>\n      <th>price</th>\n      <th>total</th>\n      <th>order_date</th>\n      <th>shipping_address</th>\n    </tr>\n  </thead>\n  <tbody>\n    <tr>\n      <th>0</th>\n      <td>35369275-e6c9-4532-9b08-0f1adbac593c</td>\n      <td>Peter Hill</td>\n      <td>robertssarah@example.org</td>\n      <td>Coffee Maker</td>\n      <td>Home Appliances</td>\n      <td>1</td>\n      <td>79.99</td>\n      <td>79.99</td>\n      <td>2025-01-01</td>\n      <td>26798 Mason Junction\\nDaystad, UT 25772</td>\n    </tr>\n    <tr>\n      <th>1</th>\n      <td>b1316fda-ceac-4372-934d-5ae01b11cb45</td>\n      <td>Mark Robinson</td>\n      <td>michael67@example.com</td>\n      <td>Headphones</td>\n      <td>Accessories</td>\n      <td>7</td>\n      <td>49.99</td>\n      <td>349.93</td>\n      <td>2025-01-04</td>\n      <td>6660 Christine Neck\\nMelissashire, WI 40341</td>\n    </tr>\n  </tbody>\n</table>\n</div>",
       "datasetInfos": [],
       "metadata": {},
       "removedWidgets": [],
       "textData": null,
       "type": "htmlSandbox"
      }
     },
     "output_type": "display_data"
    }
   ],
   "source": [
    "df.columns = [x.replace(\" \", \"_\") for x in df.columns]\n",
    "df.head(2)"
   ]
  },
  {
   "cell_type": "code",
   "execution_count": 0,
   "metadata": {
    "application/vnd.databricks.v1+cell": {
     "cellMetadata": {
      "byteLimit": 2048000,
      "rowLimit": 10000
     },
     "inputWidgets": {},
     "nuid": "f3b56e36-278a-44db-9209-1b9c0512fed8",
     "showTitle": false,
     "tableResultSettingsMap": {},
     "title": ""
    }
   },
   "outputs": [
    {
     "name": "stdout",
     "output_type": "stream",
     "text": [
      "Out[24]: 10"
     ]
    }
   ],
   "source": [
    "len(df.columns)"
   ]
  },
  {
   "cell_type": "code",
   "execution_count": 0,
   "metadata": {
    "application/vnd.databricks.v1+cell": {
     "cellMetadata": {},
     "inputWidgets": {},
     "nuid": "3fc7a165-99cc-4785-b561-4f4ad2f208db",
     "showTitle": false,
     "tableResultSettingsMap": {},
     "title": ""
    }
   },
   "outputs": [],
   "source": []
  }
 ],
 "metadata": {
  "application/vnd.databricks.v1+notebook": {
   "computePreferences": null,
   "dashboards": [],
   "environmentMetadata": {
    "base_environment": "",
    "client": "1"
   },
   "language": "python",
   "notebookMetadata": {
    "pythonIndentUnit": 4
   },
   "notebookName": "Effortless Data Exploration",
   "widgets": {}
  },
  "language_info": {
   "name": "python"
  }
 },
 "nbformat": 4,
 "nbformat_minor": 0
}
